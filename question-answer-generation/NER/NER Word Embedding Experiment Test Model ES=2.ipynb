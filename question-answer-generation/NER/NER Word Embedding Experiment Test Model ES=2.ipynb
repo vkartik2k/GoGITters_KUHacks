{
 "cells": [
  {
   "cell_type": "code",
   "execution_count": 1,
   "metadata": {},
   "outputs": [
    {
     "name": "stderr",
     "output_type": "stream",
     "text": [
      "/home/agus/anaconda3/envs/basic/lib/python3.6/site-packages/sklearn/cross_validation.py:41: DeprecationWarning: This module was deprecated in version 0.18 in favor of the model_selection module into which all the refactored classes and functions are moved. Also note that the interface of the new CV iterators are different from that of this module. This module will be removed in 0.20.\n",
      "  \"This module will be removed in 0.20.\", DeprecationWarning)\n",
      "/home/agus/anaconda3/envs/basic/lib/python3.6/site-packages/sklearn/grid_search.py:42: DeprecationWarning: This module was deprecated in version 0.18 in favor of the model_selection module into which all the refactored classes and functions are moved. This module will be removed in 0.20.\n",
      "  DeprecationWarning)\n"
     ]
    }
   ],
   "source": [
    "import sklearn_crfsuite\n",
    "from sklearn_crfsuite import scorers\n",
    "from sklearn_crfsuite import metrics\n",
    "\n",
    "from nltk.tag.stanford import StanfordPOSTagger\n",
    "from stanford_postagger.stanford_wrapper import StanfordPOSTagger as StanfordPOSTaggerWrapper\n",
    "\n",
    "from sklearn.metrics import make_scorer\n",
    "from sklearn.model_selection import cross_val_score\n",
    "\n",
    "import scipy\n",
    "from sklearn.grid_search import RandomizedSearchCV"
   ]
  },
  {
   "cell_type": "code",
   "execution_count": 2,
   "metadata": {},
   "outputs": [],
   "source": [
    "%load_ext autoreload\n",
    "%autoreload 2"
   ]
  },
  {
   "cell_type": "markdown",
   "metadata": {},
   "source": [
    "# Read Dataset"
   ]
  },
  {
   "cell_type": "code",
   "execution_count": 3,
   "metadata": {},
   "outputs": [],
   "source": [
    "f = open('datasets/conll2003/train.txt', 'r')\n",
    "lines = f.readlines()\n",
    "f.close()\n",
    "\n",
    "del lines[0]\n",
    "del lines[0]\n",
    "\n",
    "dataset = []\n",
    "sentence = []\n",
    "for line in lines:\n",
    "    splitter = line.strip().split(' ')\n",
    "    if splitter[0] == '':\n",
    "        continue\n",
    "    elif (splitter[0] == '-DOCSTART-'):\n",
    "        dataset.append(sentence)\n",
    "        sentence = []\n",
    "    else:\n",
    "        token = splitter[0]\n",
    "        tag = splitter[3]\n",
    "        sentence.append((token, tag))"
   ]
  },
  {
   "cell_type": "code",
   "execution_count": 4,
   "metadata": {},
   "outputs": [],
   "source": [
    "def convert_conlltxt2dataset(filename):\n",
    "    f = open(filename, 'r')\n",
    "    lines = f.readlines()\n",
    "    f.close()\n",
    "    \n",
    "    del lines[0]\n",
    "    del lines[0]\n",
    "    \n",
    "    dataset = []\n",
    "    sentence = []\n",
    "    for line in lines:\n",
    "        splitter = line.strip().split(' ')\n",
    "        if splitter[0] == '':\n",
    "            continue\n",
    "        elif (splitter[0] == '-DOCSTART-'):\n",
    "            dataset.append(sentence)\n",
    "            sentence = []\n",
    "        else:\n",
    "            token = splitter[0]\n",
    "            tag = splitter[3]\n",
    "            sentence.append((token, tag))\n",
    "    return dataset"
   ]
  },
  {
   "cell_type": "code",
   "execution_count": 5,
   "metadata": {},
   "outputs": [],
   "source": [
    "validation_dataset = convert_conlltxt2dataset('datasets/conll2003/valid.txt')\n",
    "test_dataset = convert_conlltxt2dataset('datasets/conll2003/test.txt')"
   ]
  },
  {
   "cell_type": "markdown",
   "metadata": {},
   "source": [
    "# Add Postag to Dataset"
   ]
  },
  {
   "cell_type": "markdown",
   "metadata": {},
   "source": [
    "## Example"
   ]
  },
  {
   "cell_type": "code",
   "execution_count": 6,
   "metadata": {},
   "outputs": [
    {
     "data": {
      "text/plain": [
       "[('+44', 'CD'), ('171', 'CD')]"
      ]
     },
     "execution_count": 6,
     "metadata": {},
     "output_type": "execute_result"
    }
   ],
   "source": [
    "postagger = StanfordPOSTaggerWrapper()\n",
    "postag = postagger.tag('+44 171')\n",
    "postag"
   ]
  },
  {
   "cell_type": "code",
   "execution_count": 7,
   "metadata": {
    "scrolled": true
   },
   "outputs": [],
   "source": [
    "def add_postag2dataset(dataset):\n",
    "    postagger = StanfordPOSTaggerWrapper()\n",
    "    dataset_with_postag = []\n",
    "    for sent in dataset:\n",
    "        postagged_sent = []\n",
    "        for index, (token, tag) in enumerate(sent):\n",
    "            postagged_token = postagger.tag(token)\n",
    "            postagged_sent.append((token, postagged_token[0][1], tag))\n",
    "        dataset_with_postag.append(postagged_sent)\n",
    "        \n",
    "    return dataset_with_postag\n",
    "\n",
    "postagged_validation_dataset = add_postag2dataset(validation_dataset)\n",
    "postagged_test_dataset = add_postag2dataset(test_dataset)\n",
    "\n",
    "# Delete Unused Dataset\n",
    "del validation_dataset\n",
    "del test_dataset"
   ]
  },
  {
   "cell_type": "markdown",
   "metadata": {},
   "source": [
    "# Extract Feature"
   ]
  },
  {
   "cell_type": "code",
   "execution_count": 8,
   "metadata": {},
   "outputs": [],
   "source": [
    "def word2features(sent, i):\n",
    "    word = sent[i][0]\n",
    "    postag = sent[i][1]\n",
    "\n",
    "    # Ortographic Feature, Word, POSTag & N-Gram\n",
    "    features = {\n",
    "        'word': word,\n",
    "        'word.lower()': word.lower(),\n",
    "        'word[-3:]': word[-3:],\n",
    "        'word[-2:]': word[-2:],\n",
    "        'word[:2]': word[:2],\n",
    "        'word[:3]': word[:3],\n",
    "        'word.istitle()': word.istitle(),\n",
    "        'word.isdigit()': word.isdigit(),\n",
    "        'word.isupper()': word.isupper(),\n",
    "        'postag': postag,\n",
    "        'postag[:2]': postag[:2]\n",
    "    }\n",
    "    \n",
    "    # Position\n",
    "    features.update({\n",
    "        'pos_front': i,\n",
    "        'pos_end': len(sent) - i\n",
    "    })\n",
    "    \n",
    "    # Bag Of Words\n",
    "    if i > 0:\n",
    "        word1 = sent[i-1][0]\n",
    "        postag1 = sent[i-1][1]\n",
    "        features.update({\n",
    "            '-1:word.lower()': word1.lower(),\n",
    "            '-1:word.istitle()': word1.istitle(),\n",
    "            '-1:word.isupper()': word1.isupper(),\n",
    "            '-1:postag': postag1,\n",
    "            '-1:postag[:2]': postag1[:2],\n",
    "        })\n",
    "    else:\n",
    "        features['BOS'] = True\n",
    "        \n",
    "    if i < len(sent) - 1:\n",
    "        word1 = sent[i+1][0]\n",
    "        postag1 = sent[i+1][1]\n",
    "        features.update({\n",
    "            '+1:word.lower()': word1.lower(),\n",
    "            '+1:word.istitle()': word1.istitle(),\n",
    "            '+1:word.isupper()': word1.isupper(),\n",
    "            '+1:postag': postag1,\n",
    "            '+1:postag[:2]': postag1[:2],\n",
    "        })\n",
    "    else:\n",
    "        features['EOS'] = True\n",
    "\n",
    "    return features\n",
    "\n",
    "def sent2features(sent):\n",
    "    return [word2features(sent, i) for i in range(len(sent))]\n",
    "\n",
    "def sent2postag(sent):\n",
    "    return [postag for token, postag, label in sent]\n",
    "\n",
    "def sent2labels(sent):\n",
    "    return [label for token, postag, label in sent]\n",
    "\n",
    "def sent2tokens(sent):\n",
    "    return [token for token, postag, label in sent]"
   ]
  },
  {
   "cell_type": "markdown",
   "metadata": {},
   "source": [
    "# Feature Extraction"
   ]
  },
  {
   "cell_type": "code",
   "execution_count": 9,
   "metadata": {},
   "outputs": [],
   "source": [
    "X_val = [sent2features(sent) for sent in postagged_validation_dataset]\n",
    "y_val = [sent2labels(sent) for sent in postagged_validation_dataset]\n",
    "\n",
    "X_test = [sent2features(sent) for sent in postagged_test_dataset]\n",
    "y_test = [sent2labels(sent) for sent in postagged_test_dataset]\n",
    "\n",
    "del postagged_validation_dataset\n",
    "del postagged_test_dataset"
   ]
  },
  {
   "cell_type": "markdown",
   "metadata": {},
   "source": [
    "# Load Word Embedding and Add to The Feature"
   ]
  },
  {
   "cell_type": "code",
   "execution_count": 10,
   "metadata": {},
   "outputs": [],
   "source": [
    "def load_word_embedding_model(filename):\n",
    "    f = open(filename, 'r', encoding='utf-8')\n",
    "    lines = f.readlines()\n",
    "    del lines[0]\n",
    "\n",
    "    embedding_dict = {}\n",
    "    counter = 0\n",
    "    for line in lines:\n",
    "        line = line.strip()\n",
    "        arr = line.split(' ')\n",
    "        word = arr[0]\n",
    "        vectors = [float(x) for x in arr[1:]]\n",
    "        embedding_dict[word] = vectors\n",
    "    return embedding_dict\n",
    "\n",
    "def add_word_embedding2feature(embedding_dict, feature):\n",
    "    VECTOR_SPACE_SIZE = 50\n",
    "    for i, sentence in enumerate(feature):\n",
    "        for j, token in enumerate(sentence):\n",
    "            word = token['word']\n",
    "            vector = []\n",
    "            if word in embedding_dict:\n",
    "                vector = embedding_dict[word]\n",
    "            else:\n",
    "                vector = [0 for i in range(VECTOR_SPACE_SIZE)]\n",
    "            for k in range(len(vector)):\n",
    "                wk = 'w{}'.format(k+1)\n",
    "                feature[i][j][wk] = vector[k]\n",
    "    return feature\n",
    "\n",
    "from copy import deepcopy"
   ]
  },
  {
   "cell_type": "code",
   "execution_count": 11,
   "metadata": {},
   "outputs": [],
   "source": [
    "cbow_embedding_dict = load_word_embedding_model('models/word_embedding/cbow_model_2.txt')\n",
    "X_cbow = deepcopy(X_test)\n",
    "X_cbow = add_word_embedding2feature(cbow_embedding_dict, X_cbow)\n",
    "\n",
    "X_val_cbow = deepcopy(X_val)\n",
    "X_val_cbow = add_word_embedding2feature(cbow_embedding_dict, X_val_cbow)\n",
    "\n",
    "del cbow_embedding_dict"
   ]
  },
  {
   "cell_type": "code",
   "execution_count": 12,
   "metadata": {},
   "outputs": [],
   "source": [
    "sg_embedding_dict = load_word_embedding_model('models/word_embedding/sg_model_2.txt')\n",
    "X_sg = deepcopy(X_test)\n",
    "X_sg = add_word_embedding2feature(sg_embedding_dict, X_sg)\n",
    "\n",
    "X_val_sg = deepcopy(X_val)\n",
    "X_val_sg = add_word_embedding2feature(sg_embedding_dict, X_val_sg)\n",
    "\n",
    "del sg_embedding_dict"
   ]
  },
  {
   "cell_type": "code",
   "execution_count": 13,
   "metadata": {},
   "outputs": [],
   "source": [
    "fasttext_embedding_dict = load_word_embedding_model('models/word_embedding/fasttext_model_2.txt')\n",
    "X_fasttext = deepcopy(X_test)\n",
    "X_fasttext = add_word_embedding2feature(fasttext_embedding_dict, X_fasttext)\n",
    "\n",
    "X_val_fasttext = deepcopy(X_val)\n",
    "X_val_fasttext = add_word_embedding2feature(fasttext_embedding_dict, X_val_fasttext)\n",
    "\n",
    "del fasttext_embedding_dict"
   ]
  },
  {
   "cell_type": "code",
   "execution_count": 14,
   "metadata": {},
   "outputs": [],
   "source": [
    "del X_test"
   ]
  },
  {
   "cell_type": "code",
   "execution_count": 15,
   "metadata": {},
   "outputs": [
    {
     "data": {
      "text/plain": [
       "{'word': 'SOCCER',\n",
       " 'word.lower()': 'soccer',\n",
       " 'word[-3:]': 'CER',\n",
       " 'word[-2:]': 'ER',\n",
       " 'word[:2]': 'SO',\n",
       " 'word[:3]': 'SOC',\n",
       " 'word.istitle()': False,\n",
       " 'word.isdigit()': False,\n",
       " 'word.isupper()': True,\n",
       " 'postag': 'NN',\n",
       " 'postag[:2]': 'NN',\n",
       " 'pos_front': 0,\n",
       " 'pos_end': 419,\n",
       " 'BOS': True,\n",
       " '+1:word.lower()': '-',\n",
       " '+1:word.istitle()': False,\n",
       " '+1:word.isupper()': False,\n",
       " '+1:postag': ':',\n",
       " '+1:postag[:2]': ':',\n",
       " 'w1': -1.4087068,\n",
       " 'w2': 0.2011912,\n",
       " 'w3': 0.99614793,\n",
       " 'w4': -1.5684234,\n",
       " 'w5': 0.63709104,\n",
       " 'w6': -2.2249558,\n",
       " 'w7': -0.30708793,\n",
       " 'w8': -0.49136025,\n",
       " 'w9': 1.1458724,\n",
       " 'w10': -1.3158027,\n",
       " 'w11': -0.9098756,\n",
       " 'w12': 0.345007,\n",
       " 'w13': -1.3596588,\n",
       " 'w14': 1.544882,\n",
       " 'w15': 2.7605484,\n",
       " 'w16': 2.0274143,\n",
       " 'w17': 3.2250345,\n",
       " 'w18': -0.89328986,\n",
       " 'w19': -2.1821504,\n",
       " 'w20': 0.95720494,\n",
       " 'w21': -1.113573,\n",
       " 'w22': -0.68710643,\n",
       " 'w23': 0.32429016,\n",
       " 'w24': 1.9363227,\n",
       " 'w25': -0.28782746,\n",
       " 'w26': 1.6744254,\n",
       " 'w27': 0.37658474,\n",
       " 'w28': -2.6737828,\n",
       " 'w29': 0.3630372,\n",
       " 'w30': 1.5332483,\n",
       " 'w31': -0.9752381,\n",
       " 'w32': -0.876141,\n",
       " 'w33': -2.5399866,\n",
       " 'w34': 0.08800579,\n",
       " 'w35': -1.0599451,\n",
       " 'w36': -1.6922263,\n",
       " 'w37': 0.59050554,\n",
       " 'w38': -0.5919143,\n",
       " 'w39': 0.5873417,\n",
       " 'w40': -1.1599071,\n",
       " 'w41': 0.07826365,\n",
       " 'w42': -1.1634145,\n",
       " 'w43': -0.88672465,\n",
       " 'w44': 0.8100584,\n",
       " 'w45': 1.2151121,\n",
       " 'w46': 0.32847503,\n",
       " 'w47': 0.22581176,\n",
       " 'w48': 0.091555975,\n",
       " 'w49': 1.6374598,\n",
       " 'w50': 0.75635314}"
      ]
     },
     "execution_count": 15,
     "metadata": {},
     "output_type": "execute_result"
    }
   ],
   "source": [
    "X_cbow[0][0]"
   ]
  },
  {
   "cell_type": "code",
   "execution_count": 16,
   "metadata": {},
   "outputs": [
    {
     "data": {
      "text/plain": [
       "{'word': 'SOCCER',\n",
       " 'word.lower()': 'soccer',\n",
       " 'word[-3:]': 'CER',\n",
       " 'word[-2:]': 'ER',\n",
       " 'word[:2]': 'SO',\n",
       " 'word[:3]': 'SOC',\n",
       " 'word.istitle()': False,\n",
       " 'word.isdigit()': False,\n",
       " 'word.isupper()': True,\n",
       " 'postag': 'NN',\n",
       " 'postag[:2]': 'NN',\n",
       " 'pos_front': 0,\n",
       " 'pos_end': 419,\n",
       " 'BOS': True,\n",
       " '+1:word.lower()': '-',\n",
       " '+1:word.istitle()': False,\n",
       " '+1:word.isupper()': False,\n",
       " '+1:postag': ':',\n",
       " '+1:postag[:2]': ':',\n",
       " 'w1': -0.5838318,\n",
       " 'w2': -0.11893116,\n",
       " 'w3': 0.42615455,\n",
       " 'w4': -0.17929605,\n",
       " 'w5': 0.6879327,\n",
       " 'w6': -0.28123328,\n",
       " 'w7': 0.10536976,\n",
       " 'w8': -0.6712705,\n",
       " 'w9': 0.8743664,\n",
       " 'w10': -0.6807716,\n",
       " 'w11': -1.2997047,\n",
       " 'w12': 0.24734432,\n",
       " 'w13': -0.43122563,\n",
       " 'w14': 1.2878635,\n",
       " 'w15': 1.4279467,\n",
       " 'w16': 0.95324004,\n",
       " 'w17': 1.1890935,\n",
       " 'w18': -0.7155137,\n",
       " 'w19': -0.8404136,\n",
       " 'w20': 0.4906798,\n",
       " 'w21': -0.9079721,\n",
       " 'w22': -0.33419672,\n",
       " 'w23': -0.24617764,\n",
       " 'w24': 1.3376828,\n",
       " 'w25': -0.49355692,\n",
       " 'w26': 0.70783764,\n",
       " 'w27': 1.2184808,\n",
       " 'w28': -2.2577746,\n",
       " 'w29': 0.71416575,\n",
       " 'w30': 1.0728766,\n",
       " 'w31': -0.8297132,\n",
       " 'w32': -1.1238898,\n",
       " 'w33': -1.3775805,\n",
       " 'w34': 0.35649213,\n",
       " 'w35': -0.043770663,\n",
       " 'w36': -0.5534504,\n",
       " 'w37': -0.25276414,\n",
       " 'w38': -0.9527686,\n",
       " 'w39': 0.21157186,\n",
       " 'w40': -1.2962781,\n",
       " 'w41': 0.5963776,\n",
       " 'w42': 0.03334156,\n",
       " 'w43': -0.8431477,\n",
       " 'w44': 0.15635985,\n",
       " 'w45': 1.0150315,\n",
       " 'w46': 0.30927116,\n",
       " 'w47': -0.37763643,\n",
       " 'w48': -0.2560804,\n",
       " 'w49': 0.6745157,\n",
       " 'w50': 0.3271347}"
      ]
     },
     "execution_count": 16,
     "metadata": {},
     "output_type": "execute_result"
    }
   ],
   "source": [
    "X_sg[0][0]"
   ]
  },
  {
   "cell_type": "code",
   "execution_count": 17,
   "metadata": {},
   "outputs": [
    {
     "data": {
      "text/plain": [
       "{'word': 'SOCCER',\n",
       " 'word.lower()': 'soccer',\n",
       " 'word[-3:]': 'CER',\n",
       " 'word[-2:]': 'ER',\n",
       " 'word[:2]': 'SO',\n",
       " 'word[:3]': 'SOC',\n",
       " 'word.istitle()': False,\n",
       " 'word.isdigit()': False,\n",
       " 'word.isupper()': True,\n",
       " 'postag': 'NN',\n",
       " 'postag[:2]': 'NN',\n",
       " 'pos_front': 0,\n",
       " 'pos_end': 419,\n",
       " 'BOS': True,\n",
       " '+1:word.lower()': '-',\n",
       " '+1:word.istitle()': False,\n",
       " '+1:word.isupper()': False,\n",
       " '+1:postag': ':',\n",
       " '+1:postag[:2]': ':',\n",
       " 'w1': 0.34921017,\n",
       " 'w2': 0.45019245,\n",
       " 'w3': 0.7714098,\n",
       " 'w4': 0.12115693,\n",
       " 'w5': 0.48165482,\n",
       " 'w6': -0.13365725,\n",
       " 'w7': -0.50420403,\n",
       " 'w8': -0.52196044,\n",
       " 'w9': -0.21790357,\n",
       " 'w10': 0.6755344,\n",
       " 'w11': 0.24068084,\n",
       " 'w12': 0.84111416,\n",
       " 'w13': 0.43975905,\n",
       " 'w14': -0.005092337,\n",
       " 'w15': -0.3991359,\n",
       " 'w16': -0.3375171,\n",
       " 'w17': -0.263034,\n",
       " 'w18': -0.8224232,\n",
       " 'w19': -0.15123643,\n",
       " 'w20': 0.18632635,\n",
       " 'w21': -0.792666,\n",
       " 'w22': 0.3734644,\n",
       " 'w23': -0.098219275,\n",
       " 'w24': 0.046064775,\n",
       " 'w25': -0.29583707,\n",
       " 'w26': -0.2676103,\n",
       " 'w27': 0.021400599,\n",
       " 'w28': -0.7760419,\n",
       " 'w29': 0.16247961,\n",
       " 'w30': 0.2112977,\n",
       " 'w31': 0.035752546,\n",
       " 'w32': 0.23228385,\n",
       " 'w33': -0.5392735,\n",
       " 'w34': -0.26625323,\n",
       " 'w35': 1.0634353,\n",
       " 'w36': -0.22620149,\n",
       " 'w37': 0.43585417,\n",
       " 'w38': -0.5322378,\n",
       " 'w39': -0.35502562,\n",
       " 'w40': 0.65407807,\n",
       " 'w41': -0.21556646,\n",
       " 'w42': -0.24580371,\n",
       " 'w43': -0.46599242,\n",
       " 'w44': -0.07923645,\n",
       " 'w45': 0.88954693,\n",
       " 'w46': -0.21770877,\n",
       " 'w47': 0.48917997,\n",
       " 'w48': 0.6820058,\n",
       " 'w49': 0.21111822,\n",
       " 'w50': 0.13799715}"
      ]
     },
     "execution_count": 17,
     "metadata": {},
     "output_type": "execute_result"
    }
   ],
   "source": [
    "X_fasttext[0][0]"
   ]
  },
  {
   "cell_type": "markdown",
   "metadata": {},
   "source": [
    "# Load Model"
   ]
  },
  {
   "cell_type": "code",
   "execution_count": 18,
   "metadata": {},
   "outputs": [],
   "source": [
    "import pickle"
   ]
  },
  {
   "cell_type": "code",
   "execution_count": 21,
   "metadata": {},
   "outputs": [],
   "source": [
    "filename_cbow = 'temp_crf_cbow_2.sav'\n",
    "loaded_model_cbow = pickle.load(open(filename_cbow, 'rb'))\n",
    "\n",
    "filename_sg = 'temp_crf_sg_2.sav'\n",
    "loaded_model_sg = pickle.load(open(filename_sg, 'rb'))\n",
    "\n",
    "filename_fasttext = 'temp_crf_fasttext_2.sav'\n",
    "loaded_model_fasttext = pickle.load(open(filename_fasttext, 'rb'))"
   ]
  },
  {
   "cell_type": "code",
   "execution_count": 22,
   "metadata": {},
   "outputs": [
    {
     "data": {
      "text/plain": [
       "['B-ORG', 'B-MISC', 'B-PER', 'I-PER', 'B-LOC', 'I-ORG', 'I-MISC', 'I-LOC']"
      ]
     },
     "execution_count": 22,
     "metadata": {},
     "output_type": "execute_result"
    }
   ],
   "source": [
    "labels = list(loaded_model_cbow.classes_)\n",
    "labels.remove('O')\n",
    "labels"
   ]
  },
  {
   "cell_type": "code",
   "execution_count": 23,
   "metadata": {},
   "outputs": [],
   "source": [
    "f1_scorer = make_scorer(metrics.flat_f1_score,\n",
    "                        average='weighted', labels=labels)"
   ]
  },
  {
   "cell_type": "markdown",
   "metadata": {},
   "source": [
    "# Cross Val Score"
   ]
  },
  {
   "cell_type": "code",
   "execution_count": 24,
   "metadata": {},
   "outputs": [
    {
     "name": "stdout",
     "output_type": "stream",
     "text": [
      "[0.83587345 0.68975167 0.83332266 0.81602672 0.69750685]\n",
      "0.7744962674906454\n"
     ]
    }
   ],
   "source": [
    "x_val_score_cbow = cross_val_score(loaded_model_cbow, X_val_cbow, y_val, cv=5, scoring=f1_scorer)\n",
    "print(x_val_score_cbow)\n",
    "print(x_val_score_cbow.mean())"
   ]
  },
  {
   "cell_type": "code",
   "execution_count": 25,
   "metadata": {},
   "outputs": [
    {
     "name": "stdout",
     "output_type": "stream",
     "text": [
      "[0.81260701 0.69108331 0.83762899 0.8009353  0.69352107]\n",
      "0.7671551361566453\n"
     ]
    }
   ],
   "source": [
    "x_val_score_sg = cross_val_score(loaded_model_sg, X_val_sg, y_val, cv=5, scoring=f1_scorer)\n",
    "print(x_val_score_sg)\n",
    "print(x_val_score_sg.mean())"
   ]
  },
  {
   "cell_type": "code",
   "execution_count": 26,
   "metadata": {},
   "outputs": [
    {
     "name": "stdout",
     "output_type": "stream",
     "text": [
      "[0.81677592 0.69550519 0.81810068 0.81043453 0.68456584]\n",
      "0.7650764333524792\n"
     ]
    }
   ],
   "source": [
    "x_val_score_fasttext = cross_val_score(loaded_model_fasttext, X_val_fasttext, y_val, cv=5, scoring=f1_scorer)\n",
    "print(x_val_score_fasttext)\n",
    "print(x_val_score_fasttext.mean())"
   ]
  },
  {
   "cell_type": "markdown",
   "metadata": {},
   "source": [
    "# CBOW"
   ]
  },
  {
   "cell_type": "code",
   "execution_count": 27,
   "metadata": {},
   "outputs": [
    {
     "data": {
      "text/plain": [
       "0.8103988855290419"
      ]
     },
     "execution_count": 27,
     "metadata": {},
     "output_type": "execute_result"
    }
   ],
   "source": [
    "y_pred_cbow = loaded_model_cbow.predict(X_cbow)\n",
    "metrics.flat_f1_score(y_test, y_pred_cbow,\n",
    "                      average='weighted', labels=labels)"
   ]
  },
  {
   "cell_type": "markdown",
   "metadata": {},
   "source": [
    "# SG"
   ]
  },
  {
   "cell_type": "code",
   "execution_count": 28,
   "metadata": {},
   "outputs": [
    {
     "data": {
      "text/plain": [
       "0.8190264879565053"
      ]
     },
     "execution_count": 28,
     "metadata": {},
     "output_type": "execute_result"
    }
   ],
   "source": [
    "y_pred_sg = loaded_model_sg.predict(X_sg)\n",
    "metrics.flat_f1_score(y_test, y_pred_sg,\n",
    "                      average='weighted', labels=labels)"
   ]
  },
  {
   "cell_type": "markdown",
   "metadata": {},
   "source": [
    "# FastText"
   ]
  },
  {
   "cell_type": "code",
   "execution_count": 29,
   "metadata": {},
   "outputs": [
    {
     "data": {
      "text/plain": [
       "0.812664066644544"
      ]
     },
     "execution_count": 29,
     "metadata": {},
     "output_type": "execute_result"
    }
   ],
   "source": [
    "y_pred_fasttext = loaded_model_fasttext.predict(X_fasttext)\n",
    "metrics.flat_f1_score(y_test, y_pred_fasttext,\n",
    "                      average='weighted', labels=labels)"
   ]
  }
 ],
 "metadata": {
  "kernelspec": {
   "display_name": "Python [default]",
   "language": "python",
   "name": "python3"
  },
  "language_info": {
   "codemirror_mode": {
    "name": "ipython",
    "version": 3
   },
   "file_extension": ".py",
   "mimetype": "text/x-python",
   "name": "python",
   "nbconvert_exporter": "python",
   "pygments_lexer": "ipython3",
   "version": "3.6.5"
  }
 },
 "nbformat": 4,
 "nbformat_minor": 2
}
