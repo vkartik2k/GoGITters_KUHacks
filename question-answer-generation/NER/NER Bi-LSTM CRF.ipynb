{
 "cells": [
  {
   "cell_type": "markdown",
   "metadata": {},
   "source": [
    "# Anago"
   ]
  },
  {
   "cell_type": "code",
   "execution_count": 4,
   "metadata": {},
   "outputs": [],
   "source": [
    "import anago"
   ]
  },
  {
   "cell_type": "code",
   "execution_count": 5,
   "metadata": {},
   "outputs": [],
   "source": [
    "f = open('datasets/conll2003/train.txt', 'r')\n",
    "lines = f.readlines()\n",
    "\n",
    "del lines[0]\n",
    "del lines[0]\n",
    "\n",
    "corpus_token = []\n",
    "corpus_tag = []\n",
    "token_list = []\n",
    "tag_list = []\n",
    "for line in lines:\n",
    "    splitter = line.strip().split(' ')\n",
    "    if splitter[0] == '-DOCSTART-':\n",
    "        corpus_token.append(token_list)\n",
    "        corpus_tag.append(tag_list)\n",
    "        token_list = []\n",
    "        tag_list = []\n",
    "    elif splitter[0] == '':\n",
    "        continue\n",
    "    else:\n",
    "        token_list.append(splitter[0])\n",
    "        tag_list.append(splitter[3])"
   ]
  },
  {
   "cell_type": "code",
   "execution_count": 6,
   "metadata": {},
   "outputs": [
    {
     "name": "stdout",
     "output_type": "stream",
     "text": [
      "Epoch 1/15\n",
      "30/30 [==============================] - 102s 3s/step - loss: 12.1497\n",
      "Epoch 2/15\n",
      "30/30 [==============================] - 101s 3s/step - loss: 11.4950\n",
      "Epoch 3/15\n",
      "30/30 [==============================] - 172s 6s/step - loss: 11.4150\n",
      "Epoch 4/15\n",
      "30/30 [==============================] - 114s 4s/step - loss: 11.2770\n",
      "Epoch 5/15\n",
      "30/30 [==============================] - 125s 4s/step - loss: 11.1198\n",
      "Epoch 6/15\n",
      "30/30 [==============================] - 100s 3s/step - loss: 11.0523\n",
      "Epoch 7/15\n",
      "30/30 [==============================] - 88s 3s/step - loss: 11.0007\n",
      "Epoch 8/15\n",
      "30/30 [==============================] - 91s 3s/step - loss: 10.9348\n",
      "Epoch 9/15\n",
      "30/30 [==============================] - 90s 3s/step - loss: 10.8699\n",
      "Epoch 10/15\n",
      "30/30 [==============================] - 90s 3s/step - loss: 10.8225\n",
      "Epoch 11/15\n",
      "30/30 [==============================] - 91s 3s/step - loss: 10.7922\n",
      "Epoch 12/15\n",
      "30/30 [==============================] - 90s 3s/step - loss: 10.7720\n",
      "Epoch 13/15\n",
      "30/30 [==============================] - 90s 3s/step - loss: 10.7577\n",
      "Epoch 14/15\n",
      "30/30 [==============================] - 91s 3s/step - loss: 10.7467\n",
      "Epoch 15/15\n",
      "30/30 [==============================] - 90s 3s/step - loss: 10.7377\n"
     ]
    }
   ],
   "source": [
    "model = anago.Sequence()\n",
    "model.fit(corpus_token, corpus_tag, epochs=15)"
   ]
  },
  {
   "cell_type": "code",
   "execution_count": 7,
   "metadata": {},
   "outputs": [],
   "source": [
    "f = open('datasets/conll2003/test.txt', 'r')\n",
    "lines = f.readlines()\n",
    "\n",
    "del lines[0]\n",
    "del lines[0]\n",
    "\n",
    "test_token = []\n",
    "test_tag = []\n",
    "token_list = []\n",
    "tag_list = []\n",
    "for line in lines:\n",
    "    splitter = line.strip().split(' ')\n",
    "    if splitter[0] == '-DOCSTART-':\n",
    "        test_token.append(token_list)\n",
    "        test_tag.append(tag_list)\n",
    "        token_list = []\n",
    "        tag_list = []\n",
    "    elif splitter[0] == '':\n",
    "        continue\n",
    "    else:\n",
    "        token_list.append(splitter[0])\n",
    "        tag_list.append(splitter[3])"
   ]
  },
  {
   "cell_type": "code",
   "execution_count": 9,
   "metadata": {},
   "outputs": [
    {
     "data": {
      "text/plain": [
       "0.7046036935583635"
      ]
     },
     "execution_count": 9,
     "metadata": {},
     "output_type": "execute_result"
    }
   ],
   "source": [
    "model.score(test_token, test_tag)"
   ]
  },
  {
   "cell_type": "code",
   "execution_count": null,
   "metadata": {},
   "outputs": [],
   "source": []
  }
 ],
 "metadata": {
  "kernelspec": {
   "display_name": "Python 3",
   "language": "python",
   "name": "python3"
  },
  "language_info": {
   "codemirror_mode": {
    "name": "ipython",
    "version": 3
   },
   "file_extension": ".py",
   "mimetype": "text/x-python",
   "name": "python",
   "nbconvert_exporter": "python",
   "pygments_lexer": "ipython3",
   "version": "3.6.6"
  }
 },
 "nbformat": 4,
 "nbformat_minor": 2
}
