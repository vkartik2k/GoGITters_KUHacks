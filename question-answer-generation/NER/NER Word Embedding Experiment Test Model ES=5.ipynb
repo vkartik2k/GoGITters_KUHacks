{
 "cells": [
  {
   "cell_type": "code",
   "execution_count": 1,
   "metadata": {},
   "outputs": [
    {
     "name": "stderr",
     "output_type": "stream",
     "text": [
      "/home/agus/anaconda3/envs/basic/lib/python3.6/site-packages/sklearn/cross_validation.py:41: DeprecationWarning: This module was deprecated in version 0.18 in favor of the model_selection module into which all the refactored classes and functions are moved. Also note that the interface of the new CV iterators are different from that of this module. This module will be removed in 0.20.\n",
      "  \"This module will be removed in 0.20.\", DeprecationWarning)\n",
      "/home/agus/anaconda3/envs/basic/lib/python3.6/site-packages/sklearn/grid_search.py:42: DeprecationWarning: This module was deprecated in version 0.18 in favor of the model_selection module into which all the refactored classes and functions are moved. This module will be removed in 0.20.\n",
      "  DeprecationWarning)\n"
     ]
    }
   ],
   "source": [
    "import sklearn_crfsuite\n",
    "from sklearn_crfsuite import scorers\n",
    "from sklearn_crfsuite import metrics\n",
    "\n",
    "from nltk.tag.stanford import StanfordPOSTagger\n",
    "from stanford_postagger.stanford_wrapper import StanfordPOSTagger as StanfordPOSTaggerWrapper\n",
    "\n",
    "from sklearn.metrics import make_scorer\n",
    "from sklearn.model_selection import cross_val_score\n",
    "\n",
    "import scipy\n",
    "from sklearn.grid_search import RandomizedSearchCV"
   ]
  },
  {
   "cell_type": "code",
   "execution_count": 2,
   "metadata": {},
   "outputs": [],
   "source": [
    "%load_ext autoreload\n",
    "%autoreload 2"
   ]
  },
  {
   "cell_type": "markdown",
   "metadata": {},
   "source": [
    "# Read Dataset"
   ]
  },
  {
   "cell_type": "code",
   "execution_count": 3,
   "metadata": {},
   "outputs": [],
   "source": [
    "f = open('datasets/conll2003/train.txt', 'r')\n",
    "lines = f.readlines()\n",
    "f.close()\n",
    "\n",
    "del lines[0]\n",
    "del lines[0]\n",
    "\n",
    "dataset = []\n",
    "sentence = []\n",
    "for line in lines:\n",
    "    splitter = line.strip().split(' ')\n",
    "    if splitter[0] == '':\n",
    "        continue\n",
    "    elif (splitter[0] == '-DOCSTART-'):\n",
    "        dataset.append(sentence)\n",
    "        sentence = []\n",
    "    else:\n",
    "        token = splitter[0]\n",
    "        tag = splitter[3]\n",
    "        sentence.append((token, tag))"
   ]
  },
  {
   "cell_type": "code",
   "execution_count": 4,
   "metadata": {},
   "outputs": [],
   "source": [
    "def convert_conlltxt2dataset(filename):\n",
    "    f = open(filename, 'r')\n",
    "    lines = f.readlines()\n",
    "    f.close()\n",
    "    \n",
    "    del lines[0]\n",
    "    del lines[0]\n",
    "    \n",
    "    dataset = []\n",
    "    sentence = []\n",
    "    for line in lines:\n",
    "        splitter = line.strip().split(' ')\n",
    "        if splitter[0] == '':\n",
    "            continue\n",
    "        elif (splitter[0] == '-DOCSTART-'):\n",
    "            dataset.append(sentence)\n",
    "            sentence = []\n",
    "        else:\n",
    "            token = splitter[0]\n",
    "            tag = splitter[3]\n",
    "            sentence.append((token, tag))\n",
    "    return dataset"
   ]
  },
  {
   "cell_type": "code",
   "execution_count": 5,
   "metadata": {},
   "outputs": [],
   "source": [
    "validation_dataset = convert_conlltxt2dataset('datasets/conll2003/valid.txt')\n",
    "test_dataset = convert_conlltxt2dataset('datasets/conll2003/test.txt')"
   ]
  },
  {
   "cell_type": "markdown",
   "metadata": {},
   "source": [
    "# Add Postag to Dataset"
   ]
  },
  {
   "cell_type": "markdown",
   "metadata": {},
   "source": [
    "## Example"
   ]
  },
  {
   "cell_type": "code",
   "execution_count": 6,
   "metadata": {},
   "outputs": [
    {
     "data": {
      "text/plain": [
       "[('+44', 'CD'), ('171', 'CD')]"
      ]
     },
     "execution_count": 6,
     "metadata": {},
     "output_type": "execute_result"
    }
   ],
   "source": [
    "postagger = StanfordPOSTaggerWrapper()\n",
    "postag = postagger.tag('+44 171')\n",
    "postag"
   ]
  },
  {
   "cell_type": "code",
   "execution_count": 7,
   "metadata": {
    "scrolled": true
   },
   "outputs": [],
   "source": [
    "def add_postag2dataset(dataset):\n",
    "    postagger = StanfordPOSTaggerWrapper()\n",
    "    dataset_with_postag = []\n",
    "    for sent in dataset:\n",
    "        postagged_sent = []\n",
    "        for index, (token, tag) in enumerate(sent):\n",
    "            postagged_token = postagger.tag(token)\n",
    "            postagged_sent.append((token, postagged_token[0][1], tag))\n",
    "        dataset_with_postag.append(postagged_sent)\n",
    "        \n",
    "    return dataset_with_postag\n",
    "\n",
    "postagged_validation_dataset = add_postag2dataset(validation_dataset)\n",
    "postagged_test_dataset = add_postag2dataset(test_dataset)\n",
    "\n",
    "# Delete Unused Dataset\n",
    "del validation_dataset\n",
    "del test_dataset"
   ]
  },
  {
   "cell_type": "markdown",
   "metadata": {},
   "source": [
    "# Extract Feature"
   ]
  },
  {
   "cell_type": "code",
   "execution_count": 8,
   "metadata": {},
   "outputs": [],
   "source": [
    "def word2features(sent, i):\n",
    "    word = sent[i][0]\n",
    "    postag = sent[i][1]\n",
    "\n",
    "    # Ortographic Feature, Word, POSTag & N-Gram\n",
    "    features = {\n",
    "        'word': word,\n",
    "        'word.lower()': word.lower(),\n",
    "        'word[-3:]': word[-3:],\n",
    "        'word[-2:]': word[-2:],\n",
    "        'word[:2]': word[:2],\n",
    "        'word[:3]': word[:3],\n",
    "        'word.istitle()': word.istitle(),\n",
    "        'word.isdigit()': word.isdigit(),\n",
    "        'word.isupper()': word.isupper(),\n",
    "        'postag': postag,\n",
    "        'postag[:2]': postag[:2]\n",
    "    }\n",
    "    \n",
    "    # Position\n",
    "    features.update({\n",
    "        'pos_front': i,\n",
    "        'pos_end': len(sent) - i\n",
    "    })\n",
    "    \n",
    "    # Bag Of Words\n",
    "    if i > 0:\n",
    "        word1 = sent[i-1][0]\n",
    "        postag1 = sent[i-1][1]\n",
    "        features.update({\n",
    "            '-1:word.lower()': word1.lower(),\n",
    "            '-1:word.istitle()': word1.istitle(),\n",
    "            '-1:word.isupper()': word1.isupper(),\n",
    "            '-1:postag': postag1,\n",
    "            '-1:postag[:2]': postag1[:2],\n",
    "        })\n",
    "    else:\n",
    "        features['BOS'] = True\n",
    "        \n",
    "    if i < len(sent) - 1:\n",
    "        word1 = sent[i+1][0]\n",
    "        postag1 = sent[i+1][1]\n",
    "        features.update({\n",
    "            '+1:word.lower()': word1.lower(),\n",
    "            '+1:word.istitle()': word1.istitle(),\n",
    "            '+1:word.isupper()': word1.isupper(),\n",
    "            '+1:postag': postag1,\n",
    "            '+1:postag[:2]': postag1[:2],\n",
    "        })\n",
    "    else:\n",
    "        features['EOS'] = True\n",
    "\n",
    "    return features\n",
    "\n",
    "def sent2features(sent):\n",
    "    return [word2features(sent, i) for i in range(len(sent))]\n",
    "\n",
    "def sent2postag(sent):\n",
    "    return [postag for token, postag, label in sent]\n",
    "\n",
    "def sent2labels(sent):\n",
    "    return [label for token, postag, label in sent]\n",
    "\n",
    "def sent2tokens(sent):\n",
    "    return [token for token, postag, label in sent]"
   ]
  },
  {
   "cell_type": "markdown",
   "metadata": {},
   "source": [
    "# Feature Extraction"
   ]
  },
  {
   "cell_type": "code",
   "execution_count": 9,
   "metadata": {},
   "outputs": [],
   "source": [
    "X_val = [sent2features(sent) for sent in postagged_validation_dataset]\n",
    "y_val = [sent2labels(sent) for sent in postagged_validation_dataset]\n",
    "\n",
    "X_test = [sent2features(sent) for sent in postagged_test_dataset]\n",
    "y_test = [sent2labels(sent) for sent in postagged_test_dataset]\n",
    "\n",
    "del postagged_validation_dataset\n",
    "del postagged_test_dataset"
   ]
  },
  {
   "cell_type": "markdown",
   "metadata": {},
   "source": [
    "# Load Word Embedding and Add to The Feature"
   ]
  },
  {
   "cell_type": "code",
   "execution_count": 10,
   "metadata": {},
   "outputs": [],
   "source": [
    "def load_word_embedding_model(filename):\n",
    "    f = open(filename, 'r', encoding='utf-8')\n",
    "    lines = f.readlines()\n",
    "    del lines[0]\n",
    "\n",
    "    embedding_dict = {}\n",
    "    counter = 0\n",
    "    for line in lines:\n",
    "        line = line.strip()\n",
    "        arr = line.split(' ')\n",
    "        word = arr[0]\n",
    "        vectors = [float(x) for x in arr[1:]]\n",
    "        embedding_dict[word] = vectors\n",
    "    return embedding_dict\n",
    "\n",
    "def add_word_embedding2feature(embedding_dict, feature):\n",
    "    VECTOR_SPACE_SIZE = 50\n",
    "    for i, sentence in enumerate(feature):\n",
    "        for j, token in enumerate(sentence):\n",
    "            word = token['word']\n",
    "            vector = []\n",
    "            if word in embedding_dict:\n",
    "                vector = embedding_dict[word]\n",
    "            else:\n",
    "                vector = [0 for i in range(VECTOR_SPACE_SIZE)]\n",
    "            for k in range(len(vector)):\n",
    "                wk = 'w{}'.format(k+1)\n",
    "                feature[i][j][wk] = vector[k]\n",
    "    return feature\n",
    "\n",
    "from copy import deepcopy"
   ]
  },
  {
   "cell_type": "code",
   "execution_count": 11,
   "metadata": {},
   "outputs": [],
   "source": [
    "cbow_embedding_dict = load_word_embedding_model('models/word_embedding/cbow_model_5.txt')\n",
    "X_cbow = deepcopy(X_test)\n",
    "X_cbow = add_word_embedding2feature(cbow_embedding_dict, X_cbow)\n",
    "\n",
    "X_val_cbow = deepcopy(X_val)\n",
    "X_val_cbow = add_word_embedding2feature(cbow_embedding_dict, X_val_cbow)\n",
    "\n",
    "del cbow_embedding_dict"
   ]
  },
  {
   "cell_type": "code",
   "execution_count": 12,
   "metadata": {},
   "outputs": [],
   "source": [
    "sg_embedding_dict = load_word_embedding_model('models/word_embedding/sg_model_5.txt')\n",
    "X_sg = deepcopy(X_test)\n",
    "X_sg = add_word_embedding2feature(sg_embedding_dict, X_sg)\n",
    "\n",
    "X_val_sg = deepcopy(X_val)\n",
    "X_val_sg = add_word_embedding2feature(sg_embedding_dict, X_val_sg)\n",
    "\n",
    "del sg_embedding_dict"
   ]
  },
  {
   "cell_type": "code",
   "execution_count": 13,
   "metadata": {},
   "outputs": [],
   "source": [
    "fasttext_embedding_dict = load_word_embedding_model('models/word_embedding/fasttext_model_5.txt')\n",
    "X_fasttext = deepcopy(X_test)\n",
    "X_fasttext = add_word_embedding2feature(fasttext_embedding_dict, X_fasttext)\n",
    "\n",
    "X_val_fasttext = deepcopy(X_val)\n",
    "X_val_fasttext = add_word_embedding2feature(fasttext_embedding_dict, X_val_fasttext)\n",
    "\n",
    "del fasttext_embedding_dict"
   ]
  },
  {
   "cell_type": "code",
   "execution_count": 14,
   "metadata": {},
   "outputs": [],
   "source": [
    "del X_test"
   ]
  },
  {
   "cell_type": "code",
   "execution_count": 15,
   "metadata": {},
   "outputs": [
    {
     "data": {
      "text/plain": [
       "{'word': 'SOCCER',\n",
       " 'word.lower()': 'soccer',\n",
       " 'word[-3:]': 'CER',\n",
       " 'word[-2:]': 'ER',\n",
       " 'word[:2]': 'SO',\n",
       " 'word[:3]': 'SOC',\n",
       " 'word.istitle()': False,\n",
       " 'word.isdigit()': False,\n",
       " 'word.isupper()': True,\n",
       " 'postag': 'NN',\n",
       " 'postag[:2]': 'NN',\n",
       " 'pos_front': 0,\n",
       " 'pos_end': 419,\n",
       " 'BOS': True,\n",
       " '+1:word.lower()': '-',\n",
       " '+1:word.istitle()': False,\n",
       " '+1:word.isupper()': False,\n",
       " '+1:postag': ':',\n",
       " '+1:postag[:2]': ':',\n",
       " 'w1': 4.7485266,\n",
       " 'w2': 2.6400585,\n",
       " 'w3': -0.33507606,\n",
       " 'w4': 0.26797134,\n",
       " 'w5': 1.3516893,\n",
       " 'w6': -0.38730106,\n",
       " 'w7': -1.9018749,\n",
       " 'w8': -0.0078676315,\n",
       " 'w9': 2.0295682,\n",
       " 'w10': -1.5806023,\n",
       " 'w11': -1.67731,\n",
       " 'w12': -4.2850113,\n",
       " 'w13': 2.2661965,\n",
       " 'w14': -1.084038,\n",
       " 'w15': -2.330188,\n",
       " 'w16': -0.7616144,\n",
       " 'w17': 3.92972,\n",
       " 'w18': -3.7493434,\n",
       " 'w19': 1.4172794,\n",
       " 'w20': -6.079154,\n",
       " 'w21': -2.8219287,\n",
       " 'w22': -0.5769218,\n",
       " 'w23': -3.387507,\n",
       " 'w24': 0.99581206,\n",
       " 'w25': 0.78039503,\n",
       " 'w26': -1.5857658,\n",
       " 'w27': 2.6818898,\n",
       " 'w28': -1.1025083,\n",
       " 'w29': -3.0312464,\n",
       " 'w30': -0.43767452,\n",
       " 'w31': 0.9852056,\n",
       " 'w32': 0.28031132,\n",
       " 'w33': 3.1110003,\n",
       " 'w34': 3.1030293,\n",
       " 'w35': -0.48405495,\n",
       " 'w36': 3.0295982,\n",
       " 'w37': -0.16483079,\n",
       " 'w38': -3.240572,\n",
       " 'w39': -1.1470475,\n",
       " 'w40': -1.7422495,\n",
       " 'w41': -0.44520757,\n",
       " 'w42': 1.0190933,\n",
       " 'w43': -0.5529239,\n",
       " 'w44': -1.0095108,\n",
       " 'w45': -3.170476,\n",
       " 'w46': 1.1467,\n",
       " 'w47': 1.1805322,\n",
       " 'w48': 1.1214842,\n",
       " 'w49': 1.6556334,\n",
       " 'w50': 0.42156792}"
      ]
     },
     "execution_count": 15,
     "metadata": {},
     "output_type": "execute_result"
    }
   ],
   "source": [
    "X_cbow[0][0]"
   ]
  },
  {
   "cell_type": "code",
   "execution_count": 16,
   "metadata": {},
   "outputs": [
    {
     "data": {
      "text/plain": [
       "{'word': 'SOCCER',\n",
       " 'word.lower()': 'soccer',\n",
       " 'word[-3:]': 'CER',\n",
       " 'word[-2:]': 'ER',\n",
       " 'word[:2]': 'SO',\n",
       " 'word[:3]': 'SOC',\n",
       " 'word.istitle()': False,\n",
       " 'word.isdigit()': False,\n",
       " 'word.isupper()': True,\n",
       " 'postag': 'NN',\n",
       " 'postag[:2]': 'NN',\n",
       " 'pos_front': 0,\n",
       " 'pos_end': 419,\n",
       " 'BOS': True,\n",
       " '+1:word.lower()': '-',\n",
       " '+1:word.istitle()': False,\n",
       " '+1:word.isupper()': False,\n",
       " '+1:postag': ':',\n",
       " '+1:postag[:2]': ':',\n",
       " 'w1': 1.4885135,\n",
       " 'w2': 0.21551725,\n",
       " 'w3': -0.30981103,\n",
       " 'w4': 0.14827627,\n",
       " 'w5': -0.837184,\n",
       " 'w6': -0.28926045,\n",
       " 'w7': -0.62283057,\n",
       " 'w8': -0.90385467,\n",
       " 'w9': 1.4134537,\n",
       " 'w10': -0.040353056,\n",
       " 'w11': -0.6016287,\n",
       " 'w12': -0.2695964,\n",
       " 'w13': 0.61027414,\n",
       " 'w14': -0.36873552,\n",
       " 'w15': -0.7872282,\n",
       " 'w16': 0.23364611,\n",
       " 'w17': 1.0941083,\n",
       " 'w18': -0.6136633,\n",
       " 'w19': 0.071141146,\n",
       " 'w20': -1.7844874,\n",
       " 'w21': -0.21196447,\n",
       " 'w22': -0.7218415,\n",
       " 'w23': 0.4215348,\n",
       " 'w24': 0.6289073,\n",
       " 'w25': -0.07872579,\n",
       " 'w26': 0.8698475,\n",
       " 'w27': -0.15904117,\n",
       " 'w28': 0.6869201,\n",
       " 'w29': -0.106255546,\n",
       " 'w30': -0.3979256,\n",
       " 'w31': 0.385097,\n",
       " 'w32': -0.6791087,\n",
       " 'w33': 0.8967805,\n",
       " 'w34': -0.22289173,\n",
       " 'w35': 0.09774898,\n",
       " 'w36': 0.644266,\n",
       " 'w37': -0.826306,\n",
       " 'w38': -1.877495,\n",
       " 'w39': -0.46320388,\n",
       " 'w40': 0.0068753865,\n",
       " 'w41': 1.2971648,\n",
       " 'w42': 0.65635484,\n",
       " 'w43': 0.38769472,\n",
       " 'w44': -0.30527055,\n",
       " 'w45': -0.9891449,\n",
       " 'w46': -0.4760892,\n",
       " 'w47': 0.10073481,\n",
       " 'w48': 0.43344083,\n",
       " 'w49': 0.3081016,\n",
       " 'w50': 0.17842185}"
      ]
     },
     "execution_count": 16,
     "metadata": {},
     "output_type": "execute_result"
    }
   ],
   "source": [
    "X_sg[0][0]"
   ]
  },
  {
   "cell_type": "code",
   "execution_count": 17,
   "metadata": {},
   "outputs": [
    {
     "data": {
      "text/plain": [
       "{'word': 'SOCCER',\n",
       " 'word.lower()': 'soccer',\n",
       " 'word[-3:]': 'CER',\n",
       " 'word[-2:]': 'ER',\n",
       " 'word[:2]': 'SO',\n",
       " 'word[:3]': 'SOC',\n",
       " 'word.istitle()': False,\n",
       " 'word.isdigit()': False,\n",
       " 'word.isupper()': True,\n",
       " 'postag': 'NN',\n",
       " 'postag[:2]': 'NN',\n",
       " 'pos_front': 0,\n",
       " 'pos_end': 419,\n",
       " 'BOS': True,\n",
       " '+1:word.lower()': '-',\n",
       " '+1:word.istitle()': False,\n",
       " '+1:word.isupper()': False,\n",
       " '+1:postag': ':',\n",
       " '+1:postag[:2]': ':',\n",
       " 'w1': 0.78547615,\n",
       " 'w2': 0.34772557,\n",
       " 'w3': 1.0714978,\n",
       " 'w4': 0.15954094,\n",
       " 'w5': 0.4747368,\n",
       " 'w6': -0.25446758,\n",
       " 'w7': -1.2915962,\n",
       " 'w8': -0.7018811,\n",
       " 'w9': -0.32040668,\n",
       " 'w10': 1.173651,\n",
       " 'w11': 0.727166,\n",
       " 'w12': 0.93836695,\n",
       " 'w13': 0.06834475,\n",
       " 'w14': 0.08571398,\n",
       " 'w15': -0.34331954,\n",
       " 'w16': -0.6032181,\n",
       " 'w17': -0.74206614,\n",
       " 'w18': -0.9422539,\n",
       " 'w19': -0.5524901,\n",
       " 'w20': 0.3896914,\n",
       " 'w21': -1.1304176,\n",
       " 'w22': 0.6276147,\n",
       " 'w23': -0.05156191,\n",
       " 'w24': -0.056948397,\n",
       " 'w25': -0.34045145,\n",
       " 'w26': -0.34159175,\n",
       " 'w27': -0.085913666,\n",
       " 'w28': -1.1645561,\n",
       " 'w29': 0.35886627,\n",
       " 'w30': 0.31799695,\n",
       " 'w31': -0.09408814,\n",
       " 'w32': 0.3427042,\n",
       " 'w33': -0.91296035,\n",
       " 'w34': -0.4120674,\n",
       " 'w35': 1.154615,\n",
       " 'w36': -0.30252096,\n",
       " 'w37': 0.3247232,\n",
       " 'w38': -0.9782869,\n",
       " 'w39': -0.2301588,\n",
       " 'w40': 1.0224118,\n",
       " 'w41': 0.07799498,\n",
       " 'w42': -0.3567053,\n",
       " 'w43': -0.46902877,\n",
       " 'w44': 0.006154583,\n",
       " 'w45': 1.135316,\n",
       " 'w46': -0.35855767,\n",
       " 'w47': 0.45280245,\n",
       " 'w48': 0.9296947,\n",
       " 'w49': 0.048310827,\n",
       " 'w50': 0.18408193}"
      ]
     },
     "execution_count": 17,
     "metadata": {},
     "output_type": "execute_result"
    }
   ],
   "source": [
    "X_fasttext[0][0]"
   ]
  },
  {
   "cell_type": "markdown",
   "metadata": {},
   "source": [
    "# Load Model"
   ]
  },
  {
   "cell_type": "code",
   "execution_count": 18,
   "metadata": {},
   "outputs": [],
   "source": [
    "import pickle"
   ]
  },
  {
   "cell_type": "code",
   "execution_count": 20,
   "metadata": {},
   "outputs": [],
   "source": [
    "filename_cbow = 'temp_crf_cbow_5.sav'\n",
    "loaded_model_cbow = pickle.load(open(filename_cbow, 'rb'))\n",
    "\n",
    "filename_sg = 'temp_crf_sg_5.sav'\n",
    "loaded_model_sg = pickle.load(open(filename_sg, 'rb'))\n",
    "\n",
    "filename_fasttext = 'temp_crf_fasttext_5.sav'\n",
    "loaded_model_fasttext = pickle.load(open(filename_fasttext, 'rb'))"
   ]
  },
  {
   "cell_type": "code",
   "execution_count": 21,
   "metadata": {},
   "outputs": [
    {
     "data": {
      "text/plain": [
       "['B-ORG', 'B-MISC', 'B-PER', 'I-PER', 'B-LOC', 'I-ORG', 'I-MISC', 'I-LOC']"
      ]
     },
     "execution_count": 21,
     "metadata": {},
     "output_type": "execute_result"
    }
   ],
   "source": [
    "labels = list(loaded_model_cbow.classes_)\n",
    "labels.remove('O')\n",
    "labels"
   ]
  },
  {
   "cell_type": "code",
   "execution_count": 22,
   "metadata": {},
   "outputs": [],
   "source": [
    "f1_scorer = make_scorer(metrics.flat_f1_score,\n",
    "                        average='weighted', labels=labels)"
   ]
  },
  {
   "cell_type": "markdown",
   "metadata": {},
   "source": [
    "# Cross Val Score"
   ]
  },
  {
   "cell_type": "code",
   "execution_count": 23,
   "metadata": {},
   "outputs": [
    {
     "name": "stdout",
     "output_type": "stream",
     "text": [
      "[0.80633198 0.6979645  0.83271769 0.81500635 0.68408608]\n",
      "0.7672213230193291\n"
     ]
    }
   ],
   "source": [
    "x_val_score_cbow = cross_val_score(loaded_model_cbow, X_val_cbow, y_val, cv=5, scoring=f1_scorer)\n",
    "print(x_val_score_cbow)\n",
    "print(x_val_score_cbow.mean())"
   ]
  },
  {
   "cell_type": "code",
   "execution_count": 24,
   "metadata": {},
   "outputs": [
    {
     "name": "stdout",
     "output_type": "stream",
     "text": [
      "[0.826746   0.67905911 0.82702053 0.81461881 0.6903014 ]\n",
      "0.7675491706101054\n"
     ]
    }
   ],
   "source": [
    "x_val_score_sg = cross_val_score(loaded_model_sg, X_val_sg, y_val, cv=5, scoring=f1_scorer)\n",
    "print(x_val_score_sg)\n",
    "print(x_val_score_sg.mean())"
   ]
  },
  {
   "cell_type": "code",
   "execution_count": 25,
   "metadata": {},
   "outputs": [
    {
     "name": "stdout",
     "output_type": "stream",
     "text": [
      "[0.81538174 0.69728095 0.82006071 0.80813647 0.68634767]\n",
      "0.7654415101612253\n"
     ]
    }
   ],
   "source": [
    "x_val_score_fasttext = cross_val_score(loaded_model_fasttext, X_val_fasttext, y_val, cv=5, scoring=f1_scorer)\n",
    "print(x_val_score_fasttext)\n",
    "print(x_val_score_fasttext.mean())"
   ]
  },
  {
   "cell_type": "markdown",
   "metadata": {},
   "source": [
    "# CBOW"
   ]
  },
  {
   "cell_type": "code",
   "execution_count": 26,
   "metadata": {},
   "outputs": [
    {
     "data": {
      "text/plain": [
       "0.819186738971522"
      ]
     },
     "execution_count": 26,
     "metadata": {},
     "output_type": "execute_result"
    }
   ],
   "source": [
    "y_pred_cbow = loaded_model_cbow.predict(X_cbow)\n",
    "metrics.flat_f1_score(y_test, y_pred_cbow,\n",
    "                      average='weighted', labels=labels)"
   ]
  },
  {
   "cell_type": "markdown",
   "metadata": {},
   "source": [
    "# SG"
   ]
  },
  {
   "cell_type": "code",
   "execution_count": 27,
   "metadata": {},
   "outputs": [
    {
     "data": {
      "text/plain": [
       "0.81531972626297"
      ]
     },
     "execution_count": 27,
     "metadata": {},
     "output_type": "execute_result"
    }
   ],
   "source": [
    "y_pred_sg = loaded_model_sg.predict(X_sg)\n",
    "metrics.flat_f1_score(y_test, y_pred_sg,\n",
    "                      average='weighted', labels=labels)"
   ]
  },
  {
   "cell_type": "markdown",
   "metadata": {},
   "source": [
    "# FastText"
   ]
  },
  {
   "cell_type": "code",
   "execution_count": 28,
   "metadata": {},
   "outputs": [
    {
     "data": {
      "text/plain": [
       "0.8128669890644298"
      ]
     },
     "execution_count": 28,
     "metadata": {},
     "output_type": "execute_result"
    }
   ],
   "source": [
    "y_pred_fasttext = loaded_model_fasttext.predict(X_fasttext)\n",
    "metrics.flat_f1_score(y_test, y_pred_fasttext,\n",
    "                      average='weighted', labels=labels)"
   ]
  }
 ],
 "metadata": {
  "kernelspec": {
   "display_name": "Python [default]",
   "language": "python",
   "name": "python3"
  },
  "language_info": {
   "codemirror_mode": {
    "name": "ipython",
    "version": 3
   },
   "file_extension": ".py",
   "mimetype": "text/x-python",
   "name": "python",
   "nbconvert_exporter": "python",
   "pygments_lexer": "ipython3",
   "version": "3.6.5"
  }
 },
 "nbformat": 4,
 "nbformat_minor": 2
}
