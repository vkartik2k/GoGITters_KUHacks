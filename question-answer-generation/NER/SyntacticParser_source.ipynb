{
 "cells": [
  {
   "cell_type": "code",
   "execution_count": 19,
   "metadata": {},
   "outputs": [
    {
     "name": "stdout",
     "output_type": "stream",
     "text": [
      "The autoreload extension is already loaded. To reload it, use:\n",
      "  %reload_ext autoreload\n"
     ]
    }
   ],
   "source": [
    "%load_ext autoreload\n",
    "%autoreload 2\n",
    "\n",
    "from sys import intern\n",
    "\n",
    "from stanford_postagger import StanfordPOSTagger\n",
    "from syntactic_parser_source import *\n",
    "from tqdm import tqdm_notebook as tqdm\n",
    "\n",
    "to_exclude = ['read_conll', 'train', 'main']\n",
    "for name in to_exclude:\n",
    "    del globals()[name]"
   ]
  },
  {
   "cell_type": "code",
   "execution_count": 20,
   "metadata": {},
   "outputs": [],
   "source": [
    "def read_conll(loc):\n",
    "    for sent_str in open(loc, mode='r', encoding='utf-8').read().strip().split('\\n\\n'):\n",
    "        lines = [line.split() for line in sent_str.split('\\n')]\n",
    "        words = DefaultList(''); tags = DefaultList('')\n",
    "        heads = [None]; labels = [None]\n",
    "        \n",
    "        for i, (_, word, _, pos, _, _, head, label, _, _) in enumerate(lines):\n",
    "            words.append(intern(word))\n",
    "            #words.append(intern(normalize(word)))\n",
    "            tags.append(intern(pos))\n",
    "            heads.append(int(head) + 1 if head != '-1' else len(lines) + 1)\n",
    "            labels.append(label)\n",
    "        pad_tokens(words); pad_tokens(tags)\n",
    "        yield words, tags, heads, labels"
   ]
  },
  {
   "cell_type": "code",
   "execution_count": 21,
   "metadata": {},
   "outputs": [],
   "source": [
    "def train(parser, sentences, nr_iter):\n",
    "    parser.tagger.start_training(sentences)\n",
    "    for itn in range(nr_iter):\n",
    "        corr = 0; total = 0\n",
    "        random.shuffle(sentences)\n",
    "        \n",
    "        t = tqdm(total=len(sentences))        \n",
    "        for words, gold_tags, gold_parse, gold_label in sentences:\n",
    "            corr += parser.train_one(itn, words, gold_tags, gold_parse)\n",
    "            if itn < 5:\n",
    "                parser.tagger.train_one(words, gold_tags)\n",
    "            total += len(words)\n",
    "            t.update(1)\n",
    "        print(itn, '%.3f' % (float(corr) / float(total)))\n",
    "        if itn == 4:\n",
    "            parser.tagger.model.average_weights()\n",
    "    print('Averaging weights')\n",
    "    parser.model.average_weights()"
   ]
  },
  {
   "cell_type": "code",
   "execution_count": 22,
   "metadata": {},
   "outputs": [],
   "source": [
    "def main(model_dir, train_loc, heldout_gold, nr_iter=15):\n",
    "    parser = Parser(load=False)\n",
    "    sentences = list(read_conll(train_loc))\n",
    "    train(parser, sentences, nr_iter=15)\n",
    "    parser.save()\n",
    "    \n",
    "    c = 0\n",
    "    t = 0\n",
    "    gold_sentences = list(read_conll(heldout_gold))\n",
    "    t1 = time.time()\n",
    "    \n",
    "    for words, tags, gold_heads, gold_labels in gold_sentences:\n",
    "        _, heads = parser.parse(words)\n",
    "        for i, w in list(enumerate(words))[1:-1]:\n",
    "            if gold_labels[i] in ('P', 'punct'):\n",
    "                continue\n",
    "            if heads[i] == gold_heads[i]:\n",
    "                c += 1\n",
    "            t += 1\n",
    "            \n",
    "    t2 = time.time()\n",
    "    print('Parsing took %0.3f ms' % ((t2-t1)*1000.0))\n",
    "    print(c, t, float(c)/t)"
   ]
  },
  {
   "cell_type": "code",
   "execution_count": 23,
   "metadata": {},
   "outputs": [
    {
     "data": {
      "application/vnd.jupyter.widget-view+json": {
       "model_id": "8733dbbe94444ed1b3c91b8c8c97dce8",
       "version_major": 2,
       "version_minor": 0
      },
      "text/plain": [
       "A Jupyter Widget"
      ]
     },
     "metadata": {},
     "output_type": "display_data"
    },
    {
     "name": "stdout",
     "output_type": "stream",
     "text": [
      "0 0.117\n"
     ]
    },
    {
     "data": {
      "application/vnd.jupyter.widget-view+json": {
       "model_id": "1926ac1b8c7946f2a8664cc6c55cddd5",
       "version_major": 2,
       "version_minor": 0
      },
      "text/plain": [
       "A Jupyter Widget"
      ]
     },
     "metadata": {},
     "output_type": "display_data"
    },
    {
     "name": "stdout",
     "output_type": "stream",
     "text": [
      "1 0.116\n"
     ]
    },
    {
     "data": {
      "application/vnd.jupyter.widget-view+json": {
       "model_id": "49fec0eaf30047c989329d7cb4ce91a7",
       "version_major": 2,
       "version_minor": 0
      },
      "text/plain": [
       "A Jupyter Widget"
      ]
     },
     "metadata": {},
     "output_type": "display_data"
    },
    {
     "name": "stdout",
     "output_type": "stream",
     "text": [
      "2 0.116\n"
     ]
    },
    {
     "data": {
      "application/vnd.jupyter.widget-view+json": {
       "model_id": "5b0e4b7808e843f9bb9fba6e5ad70d12",
       "version_major": 2,
       "version_minor": 0
      },
      "text/plain": [
       "A Jupyter Widget"
      ]
     },
     "metadata": {},
     "output_type": "display_data"
    },
    {
     "name": "stdout",
     "output_type": "stream",
     "text": [
      "3 0.116\n"
     ]
    },
    {
     "data": {
      "application/vnd.jupyter.widget-view+json": {
       "model_id": "4110d5f54593400ead0d41da0f92f40b",
       "version_major": 2,
       "version_minor": 0
      },
      "text/plain": [
       "A Jupyter Widget"
      ]
     },
     "metadata": {},
     "output_type": "display_data"
    },
    {
     "name": "stdout",
     "output_type": "stream",
     "text": [
      "4 0.116\n"
     ]
    },
    {
     "data": {
      "application/vnd.jupyter.widget-view+json": {
       "model_id": "b109f3dbc01b4894a5146e5d538312c9",
       "version_major": 2,
       "version_minor": 0
      },
      "text/plain": [
       "A Jupyter Widget"
      ]
     },
     "metadata": {},
     "output_type": "display_data"
    },
    {
     "name": "stdout",
     "output_type": "stream",
     "text": [
      "5 0.115\n"
     ]
    },
    {
     "data": {
      "application/vnd.jupyter.widget-view+json": {
       "model_id": "cd5ca560572b475abdaa707bcd72ff93",
       "version_major": 2,
       "version_minor": 0
      },
      "text/plain": [
       "A Jupyter Widget"
      ]
     },
     "metadata": {},
     "output_type": "display_data"
    },
    {
     "name": "stdout",
     "output_type": "stream",
     "text": [
      "6 0.115\n"
     ]
    },
    {
     "data": {
      "application/vnd.jupyter.widget-view+json": {
       "model_id": "7a33e15c215145aaacc694f568d19b46",
       "version_major": 2,
       "version_minor": 0
      },
      "text/plain": [
       "A Jupyter Widget"
      ]
     },
     "metadata": {},
     "output_type": "display_data"
    },
    {
     "name": "stdout",
     "output_type": "stream",
     "text": [
      "7 0.115\n"
     ]
    },
    {
     "data": {
      "application/vnd.jupyter.widget-view+json": {
       "model_id": "d7a00584832643c3a6de56d1a5411e4e",
       "version_major": 2,
       "version_minor": 0
      },
      "text/plain": [
       "A Jupyter Widget"
      ]
     },
     "metadata": {},
     "output_type": "display_data"
    },
    {
     "name": "stdout",
     "output_type": "stream",
     "text": [
      "8 0.115\n"
     ]
    },
    {
     "data": {
      "application/vnd.jupyter.widget-view+json": {
       "model_id": "c040f662cb1a461eb9e1e6e80360e26b",
       "version_major": 2,
       "version_minor": 0
      },
      "text/plain": [
       "A Jupyter Widget"
      ]
     },
     "metadata": {},
     "output_type": "display_data"
    },
    {
     "name": "stdout",
     "output_type": "stream",
     "text": [
      "9 0.116\n"
     ]
    },
    {
     "data": {
      "application/vnd.jupyter.widget-view+json": {
       "model_id": "ee9063f209f943639d884064603d7a64",
       "version_major": 2,
       "version_minor": 0
      },
      "text/plain": [
       "A Jupyter Widget"
      ]
     },
     "metadata": {},
     "output_type": "display_data"
    },
    {
     "name": "stdout",
     "output_type": "stream",
     "text": [
      "10 0.116\n"
     ]
    },
    {
     "data": {
      "application/vnd.jupyter.widget-view+json": {
       "model_id": "f6a5fb70320546e9bc13d0e17cd15610",
       "version_major": 2,
       "version_minor": 0
      },
      "text/plain": [
       "A Jupyter Widget"
      ]
     },
     "metadata": {},
     "output_type": "display_data"
    },
    {
     "name": "stdout",
     "output_type": "stream",
     "text": [
      "11 0.115\n"
     ]
    },
    {
     "data": {
      "application/vnd.jupyter.widget-view+json": {
       "model_id": "5ec1c17f571e49e683e0dbc8fbb4bfdf",
       "version_major": 2,
       "version_minor": 0
      },
      "text/plain": [
       "A Jupyter Widget"
      ]
     },
     "metadata": {},
     "output_type": "display_data"
    },
    {
     "name": "stdout",
     "output_type": "stream",
     "text": [
      "12 0.115\n"
     ]
    },
    {
     "data": {
      "application/vnd.jupyter.widget-view+json": {
       "model_id": "be26895f3a6a44f6b8e3dd4adf810a9d",
       "version_major": 2,
       "version_minor": 0
      },
      "text/plain": [
       "A Jupyter Widget"
      ]
     },
     "metadata": {},
     "output_type": "display_data"
    },
    {
     "name": "stdout",
     "output_type": "stream",
     "text": [
      "13 0.116\n"
     ]
    },
    {
     "data": {
      "application/vnd.jupyter.widget-view+json": {
       "model_id": "54f4ece08d0f4fa6baf0247c55702ddb",
       "version_major": 2,
       "version_minor": 0
      },
      "text/plain": [
       "A Jupyter Widget"
      ]
     },
     "metadata": {},
     "output_type": "display_data"
    },
    {
     "name": "stdout",
     "output_type": "stream",
     "text": [
      "14 0.116\n",
      "Averaging weights\n",
      "Saving model to D:\\Programming\\question-answer-generation\\NER\\parser.pickle\n",
      "Parsing took 4966.760 ms\n",
      "1930 22028 0.08761576175776285\n"
     ]
    }
   ],
   "source": [
    "model_dir = path.join(\"tmp\", \"dep_parser_src.pkl\")\n",
    "train_loc = path.join(\"datasets\", \"UD_English-EWT\", \"en_ewt-ud-train.conll\")\n",
    "heldout_gold = path.join(\"datasets\", \"UD_English-EWT\", \"en_ewt-ud-test.conll\")\n",
    "main(model_dir, train_loc, heldout_gold, 15)"
   ]
  }
 ],
 "metadata": {
  "kernelspec": {
   "display_name": "Python 3",
   "language": "python",
   "name": "python3"
  },
  "language_info": {
   "codemirror_mode": {
    "name": "ipython",
    "version": 3
   },
   "file_extension": ".py",
   "mimetype": "text/x-python",
   "name": "python",
   "nbconvert_exporter": "python",
   "pygments_lexer": "ipython3",
   "version": "3.6.3"
  },
  "latex_envs": {
   "LaTeX_envs_menu_present": true,
   "autoclose": false,
   "autocomplete": true,
   "bibliofile": "biblio.bib",
   "cite_by": "apalike",
   "current_citInitial": 1,
   "eqLabelWithNumbers": true,
   "eqNumInitial": 1,
   "hotkeys": {
    "equation": "Ctrl-E",
    "itemize": "Ctrl-I"
   },
   "labels_anchors": false,
   "latex_user_defs": false,
   "report_style_numbering": false,
   "user_envs_cfg": false
  }
 },
 "nbformat": 4,
 "nbformat_minor": 2
}
