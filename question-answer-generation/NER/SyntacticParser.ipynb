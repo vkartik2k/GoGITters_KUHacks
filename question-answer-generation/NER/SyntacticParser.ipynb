{
 "cells": [
  {
   "cell_type": "markdown",
   "metadata": {},
   "source": [
    "https://gist.github.com/syllog1sm/10343947  \n",
    "https://gist.github.com/Samurais/0dc04f265799731caebf80d9ebde6395  \n",
    "https://explosion.ai/blog/parsing-english-in-python"
   ]
  },
  {
   "cell_type": "code",
   "execution_count": 1,
   "metadata": {},
   "outputs": [],
   "source": [
    "%load_ext autoreload\n",
    "%autoreload 2"
   ]
  },
  {
   "cell_type": "code",
   "execution_count": 2,
   "metadata": {},
   "outputs": [],
   "source": [
    "import random\n",
    "import os\n",
    "import time\n",
    "\n",
    "from os import path\n",
    "from sys import intern\n",
    "\n",
    "from tqdm import tqdm_notebook as tqdm\n",
    "\n",
    "from syntactic_parser import Parser\n",
    "\n",
    "class DefaultList(list):\n",
    "    def __init__(self, default = None):\n",
    "        self.default = default\n",
    "        list.__init__(self)\n",
    "\n",
    "    def __getitem__(self, index):\n",
    "        try:\n",
    "            return list.__getitem__(self, index)\n",
    "        except IndexError:\n",
    "            return self.default"
   ]
  },
  {
   "cell_type": "code",
   "execution_count": 3,
   "metadata": {},
   "outputs": [],
   "source": [
    "def read_conll(loc):\n",
    "    for sent_str in open(loc, mode='r', encoding='utf-8').read().strip().split('\\n\\n'):\n",
    "        lines = [line.split() for line in sent_str.split('\\n')]\n",
    "        words = DefaultList(''); tags = DefaultList('')\n",
    "        heads = [None]; labels = [None]\n",
    "        for i, (_, word, _, pos, _, _, head, label, _, _) in enumerate(lines):\n",
    "            words.append(intern(word))\n",
    "            #words.append(intern(normalize(word)))\n",
    "            tags.append(intern(pos))\n",
    "            heads.append(int(head) + 1 if head != '-1' else len(lines) + 1)\n",
    "            labels.append(label)\n",
    "        pad_tokens(words); pad_tokens(tags)\n",
    "        yield words, tags, heads, labels\n",
    "        \n",
    "def pad_tokens(tokens):\n",
    "    tokens.insert(0, '<start>')\n",
    "    tokens.append('ROOT')"
   ]
  },
  {
   "cell_type": "code",
   "execution_count": 4,
   "metadata": {},
   "outputs": [],
   "source": [
    "def train(parser, sentences, nr_iter=100, threshold=0.0001):\n",
    "    prev_acc = 0\n",
    "    for itn in range(nr_iter):\n",
    "        corr = 0; total = 0\n",
    "        gx = 0; gy = 0\n",
    "        random.shuffle(sentences)\n",
    "        \n",
    "        t = tqdm(total=len(sentences))\n",
    "        for words, gold_tags, gold_parse, gold_label in sentences:\n",
    "            x, y, c = parser.train_one(itn, words, gold_tags, gold_parse)\n",
    "            corr += c\n",
    "            gx += x\n",
    "            gy += y\n",
    "            total += len(words)\n",
    "            t.update(1)\n",
    "            \n",
    "        acc = (float(corr) / float(total))\n",
    "        print('Iter: {}, skipped: {}/{}, accuracy: {:.4f}'.format(itn, gx, gy, acc))\n",
    "        \n",
    "        if (abs(acc - prev_acc)) < threshold:\n",
    "            print('Δacc < {}, stopping'.format(threshold))\n",
    "            break\n",
    "        prev_acc = acc\n",
    "    print('Averaging weights')\n",
    "    parser.model.average_weight()"
   ]
  },
  {
   "cell_type": "code",
   "execution_count": 5,
   "metadata": {},
   "outputs": [],
   "source": [
    "def main(model_dir, train_loc, heldout_gold, nr_iter=100, threshold=0.0001):\n",
    "    parser = Parser()\n",
    "    sentences = list(read_conll(train_loc))\n",
    "    train(parser, sentences, nr_iter, threshold)\n",
    "    parser.save(model_dir)\n",
    "    \n",
    "    c = 0\n",
    "    t = 0\n",
    "    gold_sentences = list(read_conll(heldout_gold))\n",
    "    t1 = time.time()\n",
    "    \n",
    "    for words, tags, gold_heads, gold_labels in gold_sentences:\n",
    "        _, heads = parser.parse(words)\n",
    "        for i, w in list(enumerate(words))[1:-1]:\n",
    "            if gold_labels[i] in ('P', 'punct'):\n",
    "                continue\n",
    "            if heads[i] == gold_heads[i]:\n",
    "                c += 1\n",
    "            t += 1\n",
    "            \n",
    "    t2 = time.time()\n",
    "    print('Parsing took %0.3f ms' % ((t2-t1)*1000.0))\n",
    "    print(c, t, float(c)/t)"
   ]
  },
  {
   "cell_type": "code",
   "execution_count": 6,
   "metadata": {},
   "outputs": [
    {
     "data": {
      "application/vnd.jupyter.widget-view+json": {
       "model_id": "391004b00e3248b3b21b3e0d11d854eb",
       "version_major": 2,
       "version_minor": 0
      },
      "text/plain": [
       "A Jupyter Widget"
      ]
     },
     "metadata": {},
     "output_type": "display_data"
    },
    {
     "name": "stdout",
     "output_type": "stream",
     "text": [
      "Iter: 0, skipped: 37362/396627, accuracy: 0.1075\n"
     ]
    },
    {
     "data": {
      "application/vnd.jupyter.widget-view+json": {
       "model_id": "9d4bd4c94112406683f12b79f4ab3f80",
       "version_major": 2,
       "version_minor": 0
      },
      "text/plain": [
       "A Jupyter Widget"
      ]
     },
     "metadata": {},
     "output_type": "display_data"
    },
    {
     "name": "stdout",
     "output_type": "stream",
     "text": [
      "Iter: 1, skipped: 38742/396627, accuracy: 0.1020\n"
     ]
    },
    {
     "data": {
      "application/vnd.jupyter.widget-view+json": {
       "model_id": "4b607cfa7fee40eba2020900477a6ee9",
       "version_major": 2,
       "version_minor": 0
      },
      "text/plain": [
       "A Jupyter Widget"
      ]
     },
     "metadata": {},
     "output_type": "display_data"
    },
    {
     "name": "stdout",
     "output_type": "stream",
     "text": [
      "Iter: 2, skipped: 39055/396627, accuracy: 0.1004\n"
     ]
    },
    {
     "data": {
      "application/vnd.jupyter.widget-view+json": {
       "model_id": "0edb1acba57941e7b3245b7315b7c4eb",
       "version_major": 2,
       "version_minor": 0
      },
      "text/plain": [
       "A Jupyter Widget"
      ]
     },
     "metadata": {},
     "output_type": "display_data"
    },
    {
     "name": "stdout",
     "output_type": "stream",
     "text": [
      "Iter: 3, skipped: 39133/396627, accuracy: 0.1008\n"
     ]
    },
    {
     "data": {
      "application/vnd.jupyter.widget-view+json": {
       "model_id": "5ac94caa62504d578275cfae564be728",
       "version_major": 2,
       "version_minor": 0
      },
      "text/plain": [
       "A Jupyter Widget"
      ]
     },
     "metadata": {},
     "output_type": "display_data"
    },
    {
     "name": "stdout",
     "output_type": "stream",
     "text": [
      "Iter: 4, skipped: 39325/396627, accuracy: 0.1002\n"
     ]
    },
    {
     "data": {
      "application/vnd.jupyter.widget-view+json": {
       "model_id": "31d745a39be54e709ad325c1ca332e46",
       "version_major": 2,
       "version_minor": 0
      },
      "text/plain": [
       "A Jupyter Widget"
      ]
     },
     "metadata": {},
     "output_type": "display_data"
    },
    {
     "name": "stdout",
     "output_type": "stream",
     "text": [
      "Iter: 5, skipped: 39442/396627, accuracy: 0.0995\n"
     ]
    },
    {
     "data": {
      "application/vnd.jupyter.widget-view+json": {
       "model_id": "3fe162b210a6409087370fbfb060f254",
       "version_major": 2,
       "version_minor": 0
      },
      "text/plain": [
       "A Jupyter Widget"
      ]
     },
     "metadata": {},
     "output_type": "display_data"
    },
    {
     "name": "stdout",
     "output_type": "stream",
     "text": [
      "Iter: 6, skipped: 39545/396627, accuracy: 0.0998\n"
     ]
    },
    {
     "data": {
      "application/vnd.jupyter.widget-view+json": {
       "model_id": "b85214d01a65495fbd7ed7e21c74216c",
       "version_major": 2,
       "version_minor": 0
      },
      "text/plain": [
       "A Jupyter Widget"
      ]
     },
     "metadata": {},
     "output_type": "display_data"
    },
    {
     "name": "stdout",
     "output_type": "stream",
     "text": [
      "Iter: 7, skipped: 39401/396627, accuracy: 0.0993\n"
     ]
    },
    {
     "data": {
      "application/vnd.jupyter.widget-view+json": {
       "model_id": "a804f55b40074148ab70280a385d5a9f",
       "version_major": 2,
       "version_minor": 0
      },
      "text/plain": [
       "A Jupyter Widget"
      ]
     },
     "metadata": {},
     "output_type": "display_data"
    },
    {
     "name": "stdout",
     "output_type": "stream",
     "text": [
      "Iter: 8, skipped: 39498/396627, accuracy: 0.0993\n",
      "Δacc < 0.0001, stopping\n",
      "Averaging weights\n",
      "Parsing took 29801.260 ms\n",
      "1407 22028 0.06387325222444162\n"
     ]
    }
   ],
   "source": [
    "model_dir = path.join(\"tmp\", \"dep_parser.pkl\")\n",
    "train_loc = path.join(\"datasets\", \"UD_English-EWT\", \"en_ewt-ud-train.conll\")\n",
    "heldout_gold = path.join(\"datasets\", \"UD_English-EWT\", \"en_ewt-ud-test.conll\")\n",
    "main(model_dir, train_loc, heldout_gold, 15, 0.0001)"
   ]
  }
 ],
 "metadata": {
  "kernelspec": {
   "display_name": "Python 3",
   "language": "python",
   "name": "python3"
  },
  "language_info": {
   "codemirror_mode": {
    "name": "ipython",
    "version": 3
   },
   "file_extension": ".py",
   "mimetype": "text/x-python",
   "name": "python",
   "nbconvert_exporter": "python",
   "pygments_lexer": "ipython3",
   "version": "3.6.3"
  },
  "latex_envs": {
   "LaTeX_envs_menu_present": true,
   "autoclose": false,
   "autocomplete": true,
   "bibliofile": "biblio.bib",
   "cite_by": "apalike",
   "current_citInitial": 1,
   "eqLabelWithNumbers": true,
   "eqNumInitial": 1,
   "hotkeys": {
    "equation": "Ctrl-E",
    "itemize": "Ctrl-I"
   },
   "labels_anchors": false,
   "latex_user_defs": false,
   "report_style_numbering": false,
   "user_envs_cfg": false
  }
 },
 "nbformat": 4,
 "nbformat_minor": 2
}
