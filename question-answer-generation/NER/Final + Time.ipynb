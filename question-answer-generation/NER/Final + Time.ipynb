{
 "cells": [
  {
   "cell_type": "code",
   "execution_count": 1,
   "metadata": {},
   "outputs": [],
   "source": [
    "%load_ext autoreload\n",
    "%autoreload 2"
   ]
  },
  {
   "cell_type": "code",
   "execution_count": 2,
   "metadata": {},
   "outputs": [
    {
     "name": "stderr",
     "output_type": "stream",
     "text": [
      "/home/agus/anaconda3/envs/basic/lib/python3.6/site-packages/sklearn/cross_validation.py:41: DeprecationWarning: This module was deprecated in version 0.18 in favor of the model_selection module into which all the refactored classes and functions are moved. Also note that the interface of the new CV iterators are different from that of this module. This module will be removed in 0.20.\n",
      "  \"This module will be removed in 0.20.\", DeprecationWarning)\n",
      "/home/agus/anaconda3/envs/basic/lib/python3.6/site-packages/sklearn/grid_search.py:42: DeprecationWarning: This module was deprecated in version 0.18 in favor of the model_selection module into which all the refactored classes and functions are moved. This module will be removed in 0.20.\n",
      "  DeprecationWarning)\n"
     ]
    }
   ],
   "source": [
    "from ner.NER import NER"
   ]
  },
  {
   "cell_type": "code",
   "execution_count": 3,
   "metadata": {},
   "outputs": [],
   "source": [
    "text = \"John Doe is the most handsome person in the world at 1990s\"\n",
    "text_list = [['Beyoncé',\n",
    "  'Giselle',\n",
    "  'Knowles-Carter',\n",
    "  'bee-YON-say',\n",
    "  'born',\n",
    "  'September',\n",
    "  '1981',\n",
    "  'is',\n",
    "  'an',\n",
    "  'American',\n",
    "  'singer',\n",
    "  'songwriter',\n",
    "  'record',\n",
    "  'producer',\n",
    "  'and',\n",
    "  'actress'],\n",
    " ['Born',\n",
    "  'and',\n",
    "  'raised',\n",
    "  'in',\n",
    "  'Houston',\n",
    "  'Texas',\n",
    "  'she',\n",
    "  'performed',\n",
    "  'in',\n",
    "  'various',\n",
    "  'singing',\n",
    "  'and',\n",
    "  'dancing',\n",
    "  'competitions',\n",
    "  'as',\n",
    "  'a',\n",
    "  'child',\n",
    "  'and',\n",
    "  'rose',\n",
    "  'to',\n",
    "  'fame',\n",
    "  'in',\n",
    "  'the',\n",
    "  'late',\n",
    "  '1990s',\n",
    "  'as',\n",
    "  'lead',\n",
    "  'singer',\n",
    "  'of',\n",
    "  'R&B',\n",
    "  'girl-group',\n",
    "  'Destiny',\n",
    "  'Child'],\n",
    " ['Managed',\n",
    "  'by',\n",
    "  'her',\n",
    "  'father',\n",
    "  'Mathew',\n",
    "  'Knowles',\n",
    "  'the',\n",
    "  'group',\n",
    "  'became',\n",
    "  'one',\n",
    "  'of',\n",
    "  'the',\n",
    "  'world',\n",
    "  'best-selling',\n",
    "  'girl',\n",
    "  'groups',\n",
    "  'of',\n",
    "  'all',\n",
    "  'time'],\n",
    " ['Their',\n",
    "  'hiatus',\n",
    "  'saw',\n",
    "  'the',\n",
    "  'release',\n",
    "  'of',\n",
    "  'Beyoncé',\n",
    "  'debut',\n",
    "  'album',\n",
    "  'Dangerously',\n",
    "  'in',\n",
    "  'Love',\n",
    "  '2003',\n",
    "  'which',\n",
    "  'established',\n",
    "  'her',\n",
    "  'as',\n",
    "  'a',\n",
    "  'solo',\n",
    "  'artist',\n",
    "  'worldwide',\n",
    "  'earned',\n",
    "  'five',\n",
    "  'Grammy',\n",
    "  'Awards',\n",
    "  'and',\n",
    "  'featured',\n",
    "  'the',\n",
    "  'Billboard',\n",
    "  'Hot',\n",
    "  '100',\n",
    "  'number-one',\n",
    "  'singles',\n",
    "  'Crazy',\n",
    "  'in',\n",
    "  'Love',\n",
    "  'and',\n",
    "  'Baby',\n",
    "  'Boy']]"
   ]
  },
  {
   "cell_type": "code",
   "execution_count": 4,
   "metadata": {},
   "outputs": [
    {
     "name": "stdout",
     "output_type": "stream",
     "text": [
      "Load Model Success\n"
     ]
    }
   ],
   "source": [
    "ner = NER('finalized_model.sav')"
   ]
  },
  {
   "cell_type": "code",
   "execution_count": 5,
   "metadata": {},
   "outputs": [
    {
     "data": {
      "text/plain": [
       "[['B-PER',\n",
       "  'I-PER',\n",
       "  'O',\n",
       "  'O',\n",
       "  'O',\n",
       "  'O',\n",
       "  'O',\n",
       "  'O',\n",
       "  'O',\n",
       "  'O',\n",
       "  'B-TIME',\n",
       "  'I-TIME']]"
      ]
     },
     "execution_count": 5,
     "metadata": {},
     "output_type": "execute_result"
    }
   ],
   "source": [
    "ner.predict_class_text(text)"
   ]
  },
  {
   "cell_type": "code",
   "execution_count": 6,
   "metadata": {},
   "outputs": [],
   "source": [
    "from datefinder import DateFinder"
   ]
  },
  {
   "cell_type": "code",
   "execution_count": 7,
   "metadata": {},
   "outputs": [],
   "source": [
    "hehe = DateFinder()"
   ]
  },
  {
   "cell_type": "code",
   "execution_count": 8,
   "metadata": {},
   "outputs": [
    {
     "name": "stdout",
     "output_type": "stream",
     "text": [
      "('1669 T', (2, 9), {'time': [], 'hours': [], 'minutes': [], 'seconds': [], 'time_periods': [], 'timezones': [], 'digits_modifier': [], 'digits': ['1669'], 'days': [], 'months': [], 'delimiters': [' ', ' '], 'extra_tokens': ['T']})\n",
      "('att', (24, 28), {'time': [], 'hours': [], 'minutes': [], 'seconds': [], 'time_periods': [], 'timezones': [], 'digits_modifier': [], 'digits': [], 'days': [], 'months': [], 'delimiters': [' '], 'extra_tokens': ['at', 't']})\n"
     ]
    }
   ],
   "source": [
    "text = \"In 1669 The Water Bender attacks The Fire Bender\"\n",
    "result = hehe.extract_date_strings(text)\n",
    "for i in result:\n",
    "    print(i)"
   ]
  },
  {
   "cell_type": "code",
   "execution_count": 9,
   "metadata": {},
   "outputs": [],
   "source": [
    "results = ner.predict_class_text_list(text_list)"
   ]
  },
  {
   "cell_type": "code",
   "execution_count": 10,
   "metadata": {},
   "outputs": [],
   "source": [
    "ff_result = []\n",
    "for i, sentence in enumerate(text_list):\n",
    "    for j, word in enumerate(sentence):\n",
    "        ff_result.append((text_list[i][j], results[i][j]))"
   ]
  },
  {
   "cell_type": "code",
   "execution_count": 11,
   "metadata": {},
   "outputs": [
    {
     "data": {
      "text/plain": [
       "[('Beyoncé', 'B-PER'),\n",
       " ('Giselle', 'I-PER'),\n",
       " ('Knowles-Carter', 'I-PER'),\n",
       " ('bee-YON-say', 'O'),\n",
       " ('born', 'O'),\n",
       " ('September', 'B-TIME'),\n",
       " ('1981', 'I-TIME'),\n",
       " ('is', 'O'),\n",
       " ('an', 'O'),\n",
       " ('American', 'B-MISC'),\n",
       " ('singer', 'O'),\n",
       " ('songwriter', 'O'),\n",
       " ('record', 'O'),\n",
       " ('producer', 'O'),\n",
       " ('and', 'O'),\n",
       " ('actress', 'O'),\n",
       " ('Born', 'B-LOC'),\n",
       " ('and', 'O'),\n",
       " ('raised', 'O'),\n",
       " ('in', 'O'),\n",
       " ('Houston', 'B-LOC'),\n",
       " ('Texas', 'I-LOC'),\n",
       " ('she', 'O'),\n",
       " ('performed', 'O'),\n",
       " ('in', 'O'),\n",
       " ('various', 'O'),\n",
       " ('singing', 'O'),\n",
       " ('and', 'O'),\n",
       " ('dancing', 'O'),\n",
       " ('competitions', 'O'),\n",
       " ('as', 'O'),\n",
       " ('a', 'O'),\n",
       " ('child', 'O'),\n",
       " ('and', 'O'),\n",
       " ('rose', 'O'),\n",
       " ('to', 'B-TIME'),\n",
       " ('fame', 'O'),\n",
       " ('in', 'O'),\n",
       " ('the', 'O'),\n",
       " ('late', 'O'),\n",
       " ('1990s', 'O'),\n",
       " ('as', 'O'),\n",
       " ('lead', 'O'),\n",
       " ('singer', 'O'),\n",
       " ('of', 'B-TIME'),\n",
       " ('R&B', 'B-MISC'),\n",
       " ('girl-group', 'O'),\n",
       " ('Destiny', 'O'),\n",
       " ('Child', 'O'),\n",
       " ('Managed', 'O'),\n",
       " ('by', 'B-TIME'),\n",
       " ('her', 'O'),\n",
       " ('father', 'O'),\n",
       " ('Mathew', 'B-PER'),\n",
       " ('Knowles', 'I-PER'),\n",
       " ('the', 'O'),\n",
       " ('group', 'O'),\n",
       " ('became', 'O'),\n",
       " ('one', 'O'),\n",
       " ('of', 'B-TIME'),\n",
       " ('the', 'O'),\n",
       " ('world', 'O'),\n",
       " ('best-selling', 'O'),\n",
       " ('girl', 'O'),\n",
       " ('groups', 'O'),\n",
       " ('of', 'B-TIME'),\n",
       " ('all', 'O'),\n",
       " ('time', 'O'),\n",
       " ('Their', 'O'),\n",
       " ('hiatus', 'O'),\n",
       " ('saw', 'O'),\n",
       " ('the', 'O'),\n",
       " ('release', 'O'),\n",
       " ('of', 'B-TIME'),\n",
       " ('Beyoncé', 'B-LOC'),\n",
       " ('debut', 'O'),\n",
       " ('album', 'O'),\n",
       " ('Dangerously', 'O'),\n",
       " ('in', 'O'),\n",
       " ('Love', 'O'),\n",
       " ('2003', 'B-TIME'),\n",
       " ('which', 'O'),\n",
       " ('established', 'O'),\n",
       " ('her', 'O'),\n",
       " ('as', 'O'),\n",
       " ('a', 'O'),\n",
       " ('solo', 'O'),\n",
       " ('artist', 'O'),\n",
       " ('worldwide', 'O'),\n",
       " ('earned', 'O'),\n",
       " ('five', 'O'),\n",
       " ('Grammy', 'B-MISC'),\n",
       " ('Awards', 'I-MISC'),\n",
       " ('and', 'O'),\n",
       " ('featured', 'O'),\n",
       " ('the', 'O'),\n",
       " ('Billboard', 'B-ORG'),\n",
       " ('Hot', 'I-ORG'),\n",
       " ('100', 'B-TIME'),\n",
       " ('number-one', 'O'),\n",
       " ('singles', 'O'),\n",
       " ('Crazy', 'B-PER'),\n",
       " ('in', 'O'),\n",
       " ('Love', 'O'),\n",
       " ('and', 'O'),\n",
       " ('Baby', 'B-ORG'),\n",
       " ('Boy', 'I-ORG')]"
      ]
     },
     "execution_count": 11,
     "metadata": {},
     "output_type": "execute_result"
    }
   ],
   "source": [
    "ff_result"
   ]
  },
  {
   "cell_type": "code",
   "execution_count": null,
   "metadata": {},
   "outputs": [],
   "source": []
  }
 ],
 "metadata": {
  "kernelspec": {
   "display_name": "Python [conda env:basic]",
   "language": "python",
   "name": "conda-env-basic-py"
  },
  "language_info": {
   "codemirror_mode": {
    "name": "ipython",
    "version": 3
   },
   "file_extension": ".py",
   "mimetype": "text/x-python",
   "name": "python",
   "nbconvert_exporter": "python",
   "pygments_lexer": "ipython3",
   "version": "3.6.5"
  }
 },
 "nbformat": 4,
 "nbformat_minor": 2
}
