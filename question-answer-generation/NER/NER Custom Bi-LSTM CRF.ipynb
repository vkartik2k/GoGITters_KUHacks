{
 "cells": [
  {
   "cell_type": "code",
   "execution_count": 1,
   "metadata": {},
   "outputs": [
    {
     "name": "stderr",
     "output_type": "stream",
     "text": [
      "/home/agus/anaconda3/envs/basic/lib/python3.6/site-packages/h5py/__init__.py:36: FutureWarning: Conversion of the second argument of issubdtype from `float` to `np.floating` is deprecated. In future, it will be treated as `np.float64 == np.dtype(float).type`.\n",
      "  from ._conv import register_converters as _register_converters\n"
     ]
    }
   ],
   "source": [
    "import pandas as pd\n",
    "\n",
    "import sklearn\n",
    "from sklearn.model_selection import train_test_split\n",
    "\n",
    "import tensorflow as tf\n",
    "\n",
    "import numpy as np\n"
   ]
  },
  {
   "cell_type": "code",
   "execution_count": 2,
   "metadata": {},
   "outputs": [],
   "source": [
    "def convert_conlltxt2dataset(filename):\n",
    "    f = open(filename, 'r')\n",
    "    lines = f.readlines()\n",
    "    f.close()\n",
    "    \n",
    "    del lines[0]\n",
    "    del lines[0]\n",
    "    \n",
    "    dataset = []\n",
    "    sentence = []\n",
    "    for line in lines:\n",
    "        splitter = line.strip().split(' ')\n",
    "        if splitter[0] == '':\n",
    "            continue\n",
    "        elif (splitter[0] == '-DOCSTART-'):\n",
    "            dataset.append(sentence)\n",
    "            sentence = []\n",
    "        else:\n",
    "            token = splitter[0]\n",
    "            tag = splitter[3]\n",
    "            sentence.append((token, tag))\n",
    "    return dataset"
   ]
  },
  {
   "cell_type": "code",
   "execution_count": 3,
   "metadata": {},
   "outputs": [],
   "source": [
    "train_dataset = convert_conlltxt2dataset('datasets/conll2003/train.txt')\n",
    "test_dataset = convert_conlltxt2dataset('datasets/conll2003/test.txt')"
   ]
  },
  {
   "cell_type": "code",
   "execution_count": 4,
   "metadata": {},
   "outputs": [],
   "source": [
    "def df2token(prepared_df):\n",
    "    token_list = []\n",
    "    for sent in prepared_df:\n",
    "        for token, tag in sent:\n",
    "            token_list.append(token)\n",
    "    return token_list\n",
    "\n",
    "def df2tag(prepared_df):\n",
    "    tag_list = []\n",
    "    for sent in prepared_df:\n",
    "        for token, tag in sent:\n",
    "            tag_list.append(tag)\n",
    "    return tag_list\n",
    "\n",
    "token = df2token(train_dataset)\n",
    "tag = df2tag(train_dataset)\n",
    "\n",
    "token_test = df2token(test_dataset)\n",
    "tag_test = df2tag(test_dataset)"
   ]
  },
  {
   "cell_type": "code",
   "execution_count": 5,
   "metadata": {},
   "outputs": [
    {
     "data": {
      "text/plain": [
       "23623"
      ]
     },
     "execution_count": 5,
     "metadata": {},
     "output_type": "execute_result"
    }
   ],
   "source": [
    "tokens = list(set(token))\n",
    "n_tokens = len(tokens); n_tokens"
   ]
  },
  {
   "cell_type": "code",
   "execution_count": 6,
   "metadata": {},
   "outputs": [
    {
     "data": {
      "text/plain": [
       "9"
      ]
     },
     "execution_count": 6,
     "metadata": {},
     "output_type": "execute_result"
    }
   ],
   "source": [
    "tags = list(set(tag))\n",
    "n_tags = len(tags); n_tags"
   ]
  },
  {
   "cell_type": "code",
   "execution_count": 7,
   "metadata": {},
   "outputs": [
    {
     "name": "stdout",
     "output_type": "stream",
     "text": [
      "{'B-PER': 0, 'B-MISC': 1, 'I-PER': 2, 'I-MISC': 3, 'O': 4, 'B-LOC': 5, 'B-ORG': 6, 'I-LOC': 7, 'I-ORG': 8}\n"
     ]
    }
   ],
   "source": [
    "max_len = 75\n",
    "word2idx = {w: i + 1 for i, w in enumerate(tokens)}\n",
    "tag2idx = {t: i for i, t in enumerate(tags)}\n",
    "print(tag2idx)"
   ]
  },
  {
   "cell_type": "code",
   "execution_count": 8,
   "metadata": {},
   "outputs": [
    {
     "name": "stderr",
     "output_type": "stream",
     "text": [
      "Using TensorFlow backend.\n"
     ]
    }
   ],
   "source": [
    "from keras.preprocessing.sequence import pad_sequences\n",
    "X = [[word2idx[w[0]] for w in s] for s in train_dataset]\n",
    "X = pad_sequences(maxlen=max_len, sequences=X, padding=\"post\", value=0)\n",
    "y = [[tag2idx[w[1]] for w in s] for s in train_dataset]\n",
    "y = pad_sequences(maxlen=max_len, sequences=y, padding=\"post\", value=tag2idx[\"O\"])\n",
    "\n",
    "X_test = [[word2idx[w[0]] if w[0] in word2idx else 0 for w in s] for s in test_dataset]\n",
    "X_test = pad_sequences(maxlen=max_len, sequences=X_test, padding=\"post\", value=0)\n",
    "y_test = [[tag2idx[w[1]] for w in s] for s in test_dataset]\n",
    "y_test = pad_sequences(maxlen=max_len, sequences=y_test, padding=\"post\", value=tag2idx[\"O\"])"
   ]
  },
  {
   "cell_type": "code",
   "execution_count": 9,
   "metadata": {},
   "outputs": [],
   "source": [
    "from keras.utils import to_categorical\n",
    "y = [to_categorical(i, num_classes=n_tags) for i in y]\n",
    "y_test = [to_categorical(i, num_classes=n_tags) for i in y_test]"
   ]
  },
  {
   "cell_type": "code",
   "execution_count": 10,
   "metadata": {},
   "outputs": [],
   "source": [
    "from sklearn.model_selection import train_test_split\n",
    "X_tr, X_te, y_tr, y_te = X, X_test, y, y_test"
   ]
  },
  {
   "cell_type": "code",
   "execution_count": 11,
   "metadata": {},
   "outputs": [],
   "source": [
    "from keras.models import Model, Input\n",
    "from keras.layers import LSTM, Embedding, Dense, TimeDistributed, Dropout, Bidirectional\n",
    "from keras_contrib.layers import CRF"
   ]
  },
  {
   "cell_type": "code",
   "execution_count": 12,
   "metadata": {},
   "outputs": [],
   "source": [
    "input = Input(shape=(max_len,))\n",
    "model = Embedding(input_dim=n_tokens + 1, output_dim=20,\n",
    "                  input_length=max_len, mask_zero=True)(input)  # 20-dim embedding\n",
    "model = Bidirectional(LSTM(units=50, return_sequences=True,\n",
    "                           recurrent_dropout=0.1))(model)  # variational biLSTM\n",
    "model = TimeDistributed(Dense(50, activation=\"relu\"))(model)  # a dense layer as suggested by neuralNer\n",
    "crf = CRF(n_tags)  # CRF layer\n",
    "out = crf(model)  # output\n"
   ]
  },
  {
   "cell_type": "code",
   "execution_count": 13,
   "metadata": {},
   "outputs": [],
   "source": [
    "model = Model(input, out)"
   ]
  },
  {
   "cell_type": "code",
   "execution_count": 14,
   "metadata": {},
   "outputs": [],
   "source": [
    "from keras import optimizers\n",
    "\n",
    "optimizer_ = optimizers.RMSprop(lr=0.1, rho=0.9, epsilon=None, decay=0.0)\n",
    "model.compile(optimizer=optimizer_, loss=crf.loss_function, metrics=[crf.accuracy])"
   ]
  },
  {
   "cell_type": "code",
   "execution_count": 15,
   "metadata": {},
   "outputs": [
    {
     "name": "stdout",
     "output_type": "stream",
     "text": [
      "_________________________________________________________________\n",
      "Layer (type)                 Output Shape              Param #   \n",
      "=================================================================\n",
      "input_1 (InputLayer)         (None, 75)                0         \n",
      "_________________________________________________________________\n",
      "embedding_1 (Embedding)      (None, 75, 20)            472480    \n",
      "_________________________________________________________________\n",
      "bidirectional_1 (Bidirection (None, 75, 100)           28400     \n",
      "_________________________________________________________________\n",
      "time_distributed_1 (TimeDist (None, 75, 50)            5050      \n",
      "_________________________________________________________________\n",
      "crf_1 (CRF)                  (None, 75, 9)             558       \n",
      "=================================================================\n",
      "Total params: 506,488\n",
      "Trainable params: 506,488\n",
      "Non-trainable params: 0\n",
      "_________________________________________________________________\n"
     ]
    }
   ],
   "source": [
    "model.summary()"
   ]
  },
  {
   "cell_type": "code",
   "execution_count": 16,
   "metadata": {},
   "outputs": [
    {
     "name": "stdout",
     "output_type": "stream",
     "text": [
      "Train on 850 samples, validate on 95 samples\n",
      "Epoch 1/6\n",
      "850/850 [==============================] - 8s 10ms/step - loss: 2.0304 - acc: 0.7044 - val_loss: 0.6122 - val_acc: 0.8781\n",
      "Epoch 2/6\n",
      "850/850 [==============================] - 6s 7ms/step - loss: 0.7933 - acc: 0.8286 - val_loss: 0.5820 - val_acc: 0.8797\n",
      "Epoch 3/6\n",
      "850/850 [==============================] - 6s 7ms/step - loss: 1.3242 - acc: 0.7783 - val_loss: 0.5228 - val_acc: 0.8782\n",
      "Epoch 4/6\n",
      "850/850 [==============================] - 6s 7ms/step - loss: 0.6263 - acc: 0.8245 - val_loss: 0.4600 - val_acc: 0.8271\n",
      "Epoch 5/6\n",
      "850/850 [==============================] - 6s 7ms/step - loss: 0.5516 - acc: 0.8410 - val_loss: 0.3889 - val_acc: 0.8878\n",
      "Epoch 6/6\n",
      "850/850 [==============================] - 6s 7ms/step - loss: 0.4470 - acc: 0.8780 - val_loss: 0.3494 - val_acc: 0.9041\n",
      "CPU times: user 1min 37s, sys: 11.1 s, total: 1min 48s\n",
      "Wall time: 41.9 s\n"
     ]
    }
   ],
   "source": [
    "%%time\n",
    "history = model.fit(np.array(X_tr), np.array(y_tr), batch_size=32, epochs=6,\n",
    "                    validation_split=0.1, verbose=1)"
   ]
  },
  {
   "cell_type": "code",
   "execution_count": 17,
   "metadata": {},
   "outputs": [],
   "source": [
    "hist = pd.DataFrame(history.history)"
   ]
  },
  {
   "cell_type": "code",
   "execution_count": 18,
   "metadata": {},
   "outputs": [
    {
     "data": {
      "image/png": "[encoded data removed]",
      "text/plain": [
       "<Figure size 864x864 with 1 Axes>"
      ]
     },
     "metadata": {},
     "output_type": "display_data"
    }
   ],
   "source": [
    "%matplotlib inline\n",
    "import matplotlib.pyplot as plt\n",
    "plt.style.use(\"ggplot\")\n",
    "plt.figure(figsize=(12,12))\n",
    "plt.plot(hist[\"acc\"])\n",
    "plt.plot(hist[\"val_acc\"])\n",
    "plt.show()"
   ]
  },
  {
   "cell_type": "code",
   "execution_count": 19,
   "metadata": {},
   "outputs": [
    {
     "name": "stdout",
     "output_type": "stream",
     "text": [
      "CPU times: user 1.99 s, sys: 350 ms, total: 2.34 s\n",
      "Wall time: 807 ms\n"
     ]
    }
   ],
   "source": [
    "%%time\n",
    "prediction = model.predict(X_te)"
   ]
  },
  {
   "cell_type": "code",
   "execution_count": 20,
   "metadata": {},
   "outputs": [
    {
     "data": {
      "text/plain": [
       "array([[0., 0., 0., 0., 1., 0., 0., 0., 0.],\n",
       "       [0., 0., 0., 0., 1., 0., 0., 0., 0.],\n",
       "       [0., 0., 0., 0., 1., 0., 0., 0., 0.],\n",
       "       [0., 0., 0., 0., 1., 0., 0., 0., 0.],\n",
       "       [0., 0., 0., 0., 1., 0., 0., 0., 0.],\n",
       "       [1., 0., 0., 0., 0., 0., 0., 0., 0.],\n",
       "       [0., 0., 0., 0., 1., 0., 0., 0., 0.],\n",
       "       [0., 0., 0., 0., 1., 0., 0., 0., 0.],\n",
       "       [0., 0., 0., 0., 1., 0., 0., 0., 0.],\n",
       "       [0., 0., 0., 0., 1., 0., 0., 0., 0.],\n",
       "       [0., 0., 0., 0., 1., 0., 0., 0., 0.],\n",
       "       [0., 0., 0., 0., 1., 0., 0., 0., 0.],\n",
       "       [0., 0., 0., 0., 1., 0., 0., 0., 0.],\n",
       "       [0., 0., 0., 0., 1., 0., 0., 0., 0.],\n",
       "       [0., 0., 0., 0., 1., 0., 0., 0., 0.],\n",
       "       [0., 0., 0., 0., 1., 0., 0., 0., 0.],\n",
       "       [0., 0., 0., 0., 1., 0., 0., 0., 0.],\n",
       "       [0., 0., 0., 0., 1., 0., 0., 0., 0.],\n",
       "       [0., 0., 0., 0., 1., 0., 0., 0., 0.],\n",
       "       [0., 0., 0., 0., 0., 0., 1., 0., 0.],\n",
       "       [0., 0., 0., 0., 1., 0., 0., 0., 0.],\n",
       "       [1., 0., 0., 0., 0., 0., 0., 0., 0.],\n",
       "       [0., 0., 0., 0., 1., 0., 0., 0., 0.],\n",
       "       [0., 0., 0., 0., 1., 0., 0., 0., 0.],\n",
       "       [0., 0., 0., 0., 0., 0., 1., 0., 0.],\n",
       "       [0., 0., 0., 0., 0., 0., 0., 0., 1.],\n",
       "       [0., 0., 0., 0., 1., 0., 0., 0., 0.],\n",
       "       [0., 0., 0., 0., 1., 0., 0., 0., 0.],\n",
       "       [0., 0., 0., 0., 1., 0., 0., 0., 0.],\n",
       "       [0., 0., 0., 0., 1., 0., 0., 0., 0.],\n",
       "       [0., 0., 0., 0., 1., 0., 0., 0., 0.],\n",
       "       [0., 0., 0., 0., 1., 0., 0., 0., 0.],\n",
       "       [0., 0., 0., 0., 1., 0., 0., 0., 0.],\n",
       "       [0., 0., 0., 0., 1., 0., 0., 0., 0.],\n",
       "       [0., 0., 0., 0., 1., 0., 0., 0., 0.],\n",
       "       [0., 0., 0., 0., 1., 0., 0., 0., 0.],\n",
       "       [0., 0., 0., 0., 1., 0., 0., 0., 0.],\n",
       "       [0., 0., 0., 0., 1., 0., 0., 0., 0.],\n",
       "       [0., 0., 0., 0., 1., 0., 0., 0., 0.],\n",
       "       [0., 0., 0., 0., 1., 0., 0., 0., 0.],\n",
       "       [0., 0., 0., 0., 1., 0., 0., 0., 0.],\n",
       "       [0., 0., 0., 0., 1., 0., 0., 0., 0.],\n",
       "       [0., 0., 0., 0., 1., 0., 0., 0., 0.],\n",
       "       [0., 0., 0., 0., 1., 0., 0., 0., 0.],\n",
       "       [0., 0., 0., 0., 1., 0., 0., 0., 0.],\n",
       "       [1., 0., 0., 0., 0., 0., 0., 0., 0.],\n",
       "       [0., 0., 0., 0., 0., 1., 0., 0., 0.],\n",
       "       [0., 0., 0., 0., 1., 0., 0., 0., 0.],\n",
       "       [0., 0., 0., 0., 0., 0., 1., 0., 0.],\n",
       "       [0., 0., 0., 0., 1., 0., 0., 0., 0.],\n",
       "       [1., 0., 0., 0., 0., 0., 0., 0., 0.],\n",
       "       [0., 0., 1., 0., 0., 0., 0., 0., 0.],\n",
       "       [0., 0., 0., 0., 1., 0., 0., 0., 0.],\n",
       "       [0., 0., 0., 0., 1., 0., 0., 0., 0.],\n",
       "       [0., 0., 0., 0., 0., 0., 1., 0., 0.],\n",
       "       [0., 0., 0., 0., 1., 0., 0., 0., 0.],\n",
       "       [0., 0., 0., 0., 1., 0., 0., 0., 0.],\n",
       "       [0., 0., 0., 0., 1., 0., 0., 0., 0.],\n",
       "       [0., 0., 0., 0., 1., 0., 0., 0., 0.],\n",
       "       [0., 0., 0., 0., 1., 0., 0., 0., 0.],\n",
       "       [0., 0., 0., 0., 1., 0., 0., 0., 0.],\n",
       "       [0., 0., 0., 0., 1., 0., 0., 0., 0.],\n",
       "       [0., 0., 0., 0., 0., 1., 0., 0., 0.],\n",
       "       [0., 0., 0., 0., 1., 0., 0., 0., 0.],\n",
       "       [0., 0., 0., 0., 1., 0., 0., 0., 0.],\n",
       "       [0., 0., 0., 0., 1., 0., 0., 0., 0.],\n",
       "       [0., 0., 0., 0., 1., 0., 0., 0., 0.],\n",
       "       [0., 0., 0., 0., 1., 0., 0., 0., 0.],\n",
       "       [0., 0., 0., 0., 1., 0., 0., 0., 0.],\n",
       "       [0., 0., 0., 0., 1., 0., 0., 0., 0.],\n",
       "       [0., 0., 0., 0., 1., 0., 0., 0., 0.],\n",
       "       [0., 0., 0., 0., 1., 0., 0., 0., 0.],\n",
       "       [0., 0., 0., 0., 1., 0., 0., 0., 0.],\n",
       "       [0., 0., 0., 0., 1., 0., 0., 0., 0.],\n",
       "       [0., 0., 0., 0., 1., 0., 0., 0., 0.]], dtype=float32)"
      ]
     },
     "execution_count": 20,
     "metadata": {},
     "output_type": "execute_result"
    }
   ],
   "source": [
    "prediction[0]"
   ]
  },
  {
   "cell_type": "code",
   "execution_count": 21,
   "metadata": {},
   "outputs": [],
   "source": [
    "def confusion_deep_learning(tag_number, label, prediction):\n",
    "    '''\n",
    "    Confusion metrics that can be used in the Bi-LSTM CRF \n",
    "    '''\n",
    "    TP = 0\n",
    "    TN = 0\n",
    "    FN = 0\n",
    "    FP = 0 \n",
    "    for i, y in enumerate(label):\n",
    "        for j, tag in enumerate(y):\n",
    "            if tag[tag_number] == prediction[i][j][tag_number] and tag[tag_number] == 1.0:\n",
    "                TP += 1\n",
    "            elif tag[tag_number] == prediction[i][j][tag_number] and tag[tag_number] == 0.0:\n",
    "                TN += 1\n",
    "            elif tag[tag_number] != prediction[i][j][tag_number] and tag[tag_number] == 1.0:\n",
    "                FN += 1\n",
    "            else:\n",
    "                FP += 1\n",
    "    print('True Positive:', TP)\n",
    "    print('True Negative:', TN)\n",
    "    print('False Positive:', FP)\n",
    "    print('False Negative:', FN)\n",
    "\n",
    "    if TP + FP == 0:\n",
    "        precission = 0\n",
    "    else:\n",
    "        precission = TP / (TP+FP)\n",
    "    if TP + FN == 0:\n",
    "        recall = 0\n",
    "    else:\n",
    "        recall = TP / (TP+FN)\n",
    "    if (2 * TP + FP + FN) == 0:\n",
    "        f1 = 0\n",
    "    else:\n",
    "        f1 = (2 * TP) / (2 * TP + FP + FN)\n",
    "    accuracy = (TP + TN) / (TP + TN + FP + FN)\n",
    "    print('Precission:', precission)\n",
    "    print('Recall:', recall)\n",
    "    print('F1 Score:', f1)\n",
    "    print('Accuracy:', accuracy)\n",
    "    return f1"
   ]
  },
  {
   "cell_type": "code",
   "execution_count": 22,
   "metadata": {},
   "outputs": [
    {
     "name": "stdout",
     "output_type": "stream",
     "text": [
      "1\n",
      "True Positive: 7\n",
      "True Negative: 17032\n",
      "False Positive: 2\n",
      "False Negative: 209\n",
      "Precission: 0.7777777777777778\n",
      "Recall: 0.032407407407407406\n",
      "F1 Score: 0.06222222222222222\n",
      "Accuracy: 0.987768115942029\n",
      "2\n",
      "True Positive: 93\n",
      "True Negative: 16664\n",
      "False Positive: 110\n",
      "False Negative: 383\n",
      "Precission: 0.458128078817734\n",
      "Recall: 0.1953781512605042\n",
      "F1 Score: 0.27393225331369664\n",
      "Accuracy: 0.9714202898550724\n",
      "3\n",
      "True Positive: 0\n",
      "True Negative: 17165\n",
      "False Positive: 0\n",
      "False Negative: 85\n",
      "Precission: 0\n",
      "Recall: 0.0\n",
      "F1 Score: 0.0\n",
      "Accuracy: 0.995072463768116\n",
      "4\n",
      "True Positive: 11833\n",
      "True Negative: 2298\n",
      "False Positive: 759\n",
      "False Negative: 2360\n",
      "Precission: 0.9397236340533672\n",
      "Recall: 0.8337208483055027\n",
      "F1 Score: 0.8835542281127496\n",
      "Accuracy: 0.8191884057971015\n",
      "5\n",
      "True Positive: 242\n",
      "True Negative: 16484\n",
      "False Positive: 161\n",
      "False Negative: 363\n",
      "Precission: 0.6004962779156328\n",
      "Recall: 0.4\n",
      "F1 Score: 0.4801587301587302\n",
      "Accuracy: 0.9696231884057971\n",
      "6\n",
      "True Positive: 118\n",
      "True Negative: 16426\n",
      "False Positive: 188\n",
      "False Negative: 518\n",
      "Precission: 0.38562091503267976\n",
      "Recall: 0.18553459119496854\n",
      "F1 Score: 0.2505307855626327\n",
      "Accuracy: 0.959072463768116\n",
      "7\n",
      "True Positive: 12\n",
      "True Negative: 17125\n",
      "False Positive: 18\n",
      "False Negative: 95\n",
      "Precission: 0.4\n",
      "Recall: 0.11214953271028037\n",
      "F1 Score: 0.17518248175182483\n",
      "Accuracy: 0.9934492753623189\n",
      "8\n",
      "True Positive: 101\n",
      "True Negative: 16824\n",
      "False Positive: 116\n",
      "False Negative: 209\n",
      "Precission: 0.46543778801843316\n",
      "Recall: 0.3258064516129032\n",
      "F1 Score: 0.38330170777988615\n",
      "Accuracy: 0.981159420289855\n",
      "[0.06222222222222222, 0.27393225331369664, 0.0, 0.8835542281127496, 0.4801587301587302, 0.2505307855626327, 0.17518248175182483, 0.38330170777988615]\n",
      "0.3136103011127178\n"
     ]
    }
   ],
   "source": [
    "import numpy as np\n",
    "scores = []\n",
    "for i in range(8):\n",
    "    print(i + 1)\n",
    "    scores.append(confusion_deep_learning(i+1, y_te, prediction))\n",
    "print(scores)\n",
    "print(np.mean(np.array(scores)))"
   ]
  }
 ],
 "metadata": {
  "kernelspec": {
   "display_name": "Python [conda env:basic]",
   "language": "python",
   "name": "conda-env-basic-py"
  },
  "language_info": {
   "codemirror_mode": {
    "name": "ipython",
    "version": 3
   },
   "file_extension": ".py",
   "mimetype": "text/x-python",
   "name": "python",
   "nbconvert_exporter": "python",
   "pygments_lexer": "ipython3",
   "version": "3.6.5"
  }
 },
 "nbformat": 4,
 "nbformat_minor": 2
}
